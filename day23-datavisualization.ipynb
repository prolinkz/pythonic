{
 "cells": [
  {
   "cell_type": "markdown",
   "metadata": {},
   "source": [
    "### Data Visualization\n",
    "#### Seaborn and Plotting\n",
    "\n",
    "# import libraries\n",
    "import seaborn as sns\n",
    "import matplotlib.pyplot as plt\n",
    "import pandas as pd\n",
    "import numpy"
   ]
  },
  {
   "cell_type": "markdown",
   "metadata": {},
   "source": [
    "### 4 things aere importatnt for Data Plotting according to grammer of graphics.\n",
    "\n",
    "1. **Data (df)**\n",
    "2. **Type of plot**\n",
    "3. **Axes (x, y)**\n",
    "4. **Grouping (hue/color) based on categorical variable**\n",
    "5. **Scale (color, shape, size)**\n",
    "6. **Geometry (point, line, bar)**\n",
    "7. **Coordinates (longitude/latitude)**\n",
    "8. **Style of the plot**\n",
    "9. **How you want to interpret**\n",
    "\n"
   ]
  },
  {
   "cell_type": "code",
   "execution_count": null,
   "metadata": {},
   "outputs": [],
   "source": [
    "# First we need Data to load dataframe from Titanic dataset\n",
    "import pandas as pd\n",
    "# Loading the titanic data set into a dataframe\n",
    "titanic_data = pd.read_csv('C:/Users/HPO2PCO/Desktop/Titanic-Data/\n",
    "                           titanic.csv')\n",
    "                           print(titanic_data)\n",
    "                           # Now, let's see some basic information about our data\n",
    "                           print(titanic_data.info())\n",
    "\n",
    "### The above method is loading dataframe through Pandas, \n",
    "### here we are going to load through Seaborn library\n",
    "import seaborn as sns\n",
    "\n",
    "# Load the titanic data set into a dataframe using seaborn\n",
    "titanic_df = sns.load_dataset(\"titanic\")\n",
    "print(titanic_df)\n",
    "\n",
    "## before plotting the data we need to \n",
    "## check and know about the columns \n",
    "## Let's check all the data columns \n",
    "print(titanic_df.columns)\n",
    "## Or \n",
    "titanic_df.info()\n",
    "\n",
    "# Let's check if there any missing values in the dataset\n",
    "missing_values = titanic_df.isnull().sum()\n",
    "print(missing_values)\n",
    "\n"
   ]
  },
  {
   "cell_type": "markdown",
   "metadata": {},
   "source": [
    "### Scatter Plot()\n",
    "> Create scatter plot data"
   ]
  },
  {
   "cell_type": "code",
   "execution_count": null,
   "metadata": {},
   "outputs": [],
   "source": [
    "# write a sns scatterplot with x-ais = 'fare and y = 'age\n",
    "import seaborn as sns\n",
    "import matplotlib.pyplot as plt\n",
    "titanic_df=sns.load_dataset('titanic')\n",
    "\n",
    "## plt menas plot, figsize is the plot size function for x, y size in inches, or pixel\n",
    "plt.figure(figsize=(10,6))  # A4 size = (16:9)\n",
    "\n",
    "## We need to set the data, x-axis and y-axis variable for scatter plot.\n",
    "## X and Y axis (variables) are the dataframe columns.\n",
    "## Before running program, adjust the plot size, or figure size above, like Figsize=(x,y)\n",
    "sns.scatterplot(x='fare',y='age',data=titanic_df)\n",
    "plt.show()\n",
    "\n",
    "### we also can group the above fare, and age variable data with hue for Gender based data\n",
    "sns.scatterplot(x=\"fare\", y=\"age\", hue=\"sex\", data=titanic_df)\n",
    "\n",
    "plt.title(\"Scatter plot of Fare vs Age\")\n",
    "plt.show()\n",
    "\n",
    "### For saving Scatter plot data into variable\n",
    "# scatterplot=sns.scatterplot(x='fare',y='age',data=titanic_df)\n",
    "# plt.show()"
   ]
  },
  {
   "cell_type": "markdown",
   "metadata": {},
   "source": [
    "Change the Color point \n",
    ">> Set the palette colors for variables and load into scatterplot function"
   ]
  },
  {
   "cell_type": "code",
   "execution_count": null,
   "metadata": {},
   "outputs": [],
   "source": [
    "# change the scatter point colors based on sex column\n",
    "import matplotlib.pyplot as plt\n",
    "import pandas as pd\n",
    "\n",
    "# load dataset\n",
    "df=sns.load_dataset('titanic')\n",
    "\n",
    "plt.figure() # we can size the figure like; plt.figure(figsize(8,4)\n",
    "\n",
    "palette = {'Male': 'blue', 'Female': 'red'}\n",
    "scatter = sns.scatterplot(data=df, x=\"age\", y=\"fare\", hue=\"sex\", palette=palette)\n",
    "plt.show()\n"
   ]
  },
  {
   "cell_type": "code",
   "execution_count": null,
   "metadata": {},
   "outputs": [],
   "source": [
    "#### Adding labels to the variables\n",
    "plt.xlabel('Age')\n",
    "plt.ylabel('Fare')\n",
    "\n",
    "# #### Showing title\n",
    "plt.title(\"Titanic Dataset\")\n",
    "\n",
    "# #### Showing the plot\n",
    "plt.show()\n",
    "\n",
    "\n",
    "\n"
   ]
  },
  {
   "cell_type": "code",
   "execution_count": null,
   "metadata": {},
   "outputs": [],
   "source": [
    "#### Saving Plot into png file\n",
    "### size are 150dpi for normal resolution, 300dpi for Good, 600dpi for large screen\n",
    "\n",
    "plt.savefig('scater_plot.png', dpi=300) # give file name to save with file extension, and dpi resolution size\n",
    "\n",
    "# We also can add height and width here in savefig() \n",
    "plt.savefig('scater_plot.png', dpi=300, width='8', height= '4') \n"
   ]
  },
  {
   "cell_type": "code",
   "execution_count": null,
   "metadata": {},
   "outputs": [],
   "source": [
    "#### Saving Plot into Vector file, such as svg file format\n",
    "\n",
    "plt.savefig('scater_plot.svg', dpi=300) # give file name to save with file extension, and dpi resolution size\n",
    "# we often need an Extention to view SVG file, In VS code we have 'SVG-Viewer' extenstion\n"
   ]
  }
 ],
 "metadata": {
  "language_info": {
   "name": "python"
  }
 },
 "nbformat": 4,
 "nbformat_minor": 2
}
