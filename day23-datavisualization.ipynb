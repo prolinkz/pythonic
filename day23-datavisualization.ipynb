{
 "cells": [
  {
   "cell_type": "markdown",
   "metadata": {},
   "source": [
    "### Data Visualization\n",
    "#### Seaborn and Plotting\n",
    "\n",
    "# import libraries\n",
    "import seaborn as sns\n",
    "import matplotlib.pyplot as plt\n",
    "import pandas as pd\n",
    "import numpy"
   ]
  },
  {
   "cell_type": "markdown",
   "metadata": {},
   "source": [
    "### 4 things aere importatnt for Data Plotting according to grammer of graphics.\n",
    "\n",
    "1. **Data (df)**\n",
    "2. **Type of plot**\n",
    "3. **Axes (x, y)**\n",
    "4. **Grouping (hue/color) based on categorical variable**\n",
    "5. **Scale (color, shape, size)**\n",
    "6. **Geometry (point, line, bar)**\n",
    "7. **Coordinates (longitude/latitude)**\n",
    "8. **Style of the plot**\n",
    "9. **How you want to interpret**\n",
    "\n"
   ]
  },
  {
   "cell_type": "code",
   "execution_count": null,
   "metadata": {},
   "outputs": [],
   "source": [
    "# First we need Data to load dataframe from Titanic dataset\n",
    "import pandas as pd\n",
    "# Loading the titanic data set into a dataframe\n",
    "titanic_data = pd.read_csv('C:/Users/HPO2PCO/Desktop/Titanic-Data/\n",
    "                           titanic.csv')\n",
    "                           print(titanic_data)\n",
    "                           # Now, let's see some basic information about our data\n",
    "                           print(titanic_data.info())\n",
    "\n",
    "### The above method is loading dataframe through Pandas, \n",
    "### here we are going to load through Seaborn library\n",
    "import seaborn as sns\n",
    "\n",
    "# Load the titanic data set into a dataframe using seaborn\n",
    "titanic_df = sns.load_dataset(\"titanic\")\n",
    "print(titanic_df)\n",
    "\n",
    "# Let's check all the data columns \n",
    "print(titanic_df.columns)\n",
    "## Or \n",
    "titanic_df.info()\n",
    "\n",
    "# Let's check if there any missing values in the dataset\n",
    "missing_values = titanic_df.isnull().sum()\n",
    "print(missing_values)\n",
    "\n"
   ]
  },
  {
   "cell_type": "code",
   "execution_count": null,
   "metadata": {},
   "outputs": [],
   "source": []
  }
 ],
 "metadata": {
  "language_info": {
   "name": "python"
  }
 },
 "nbformat": 4,
 "nbformat_minor": 2
}
