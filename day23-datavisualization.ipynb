{
 "cells": [
  {
   "cell_type": "markdown",
   "metadata": {},
   "source": [
    "### Data Visualization\n",
    "#### Seaborn and Plotting\n",
    "\n",
    "# import libraries\n",
    "import seaborn as sns\n",
    "import matplotlib.pyplot as plt\n",
    "import pandas as pd\n",
    "import numpy"
   ]
  },
  {
   "cell_type": "markdown",
   "metadata": {},
   "source": [
    "### 4 things aere importatnt for Data Plotting according to grammer of graphics.\n",
    "\n",
    "1. **Data (df)**\n",
    "2. **Type of plot**\n",
    "3. **Axes (x, y)**\n",
    "4. **Grouping (hue/color) based on categorical variable**\n",
    "5. **Scale (color, shape, size)**\n",
    "6. **Geometry (point, line, bar)**\n",
    "7. **Coordinates (longitude/latitude)**\n",
    "8. **Style of the plot**\n",
    "9. **How you want to interpret**\n",
    "\n"
   ]
  },
  {
   "cell_type": "code",
   "execution_count": null,
   "metadata": {},
   "outputs": [],
   "source": [
    "# First we need Data to load dataframe from Titanic dataset\n",
    "import pandas as pd\n",
    "# Loading the titanic data set into a dataframe\n",
    "titanic_data = pd.read_csv('C:/Users/HPO2PCO/Desktop/Titanic-Data/\n",
    "                           titanic.csv')\n",
    "                           print(titanic_data)\n",
    "                           # Now, let's see some basic information about our data\n",
    "                           print(titanic_data.info())\n",
    "\n",
    "### The above method is loading dataframe through Pandas, \n",
    "### here we are going to load through Seaborn library\n",
    "import seaborn as sns\n",
    "\n",
    "# Load the titanic data set into a dataframe using seaborn\n",
    "titanic_df = sns.load_dataset(\"titanic\")\n",
    "print(titanic_df)\n",
    "\n",
    "## before plotting the data we need to \n",
    "## check and know about the columns \n",
    "## Let's check all the data columns \n",
    "print(titanic_df.columns)\n",
    "## Or \n",
    "titanic_df.info()\n",
    "\n",
    "# Let's check if there any missing values in the dataset\n",
    "missing_values = titanic_df.isnull().sum()\n",
    "print(missing_values)\n",
    "\n"
   ]
  },
  {
   "cell_type": "markdown",
   "metadata": {},
   "source": [
    "### Scatter Plot()\n",
    "> Create scatter plot data"
   ]
  },
  {
   "cell_type": "code",
   "execution_count": null,
   "metadata": {},
   "outputs": [],
   "source": [
    "# write a sns scatterplot with x-ais = 'fare and y = 'age\n",
    "import seaborn as sns\n",
    "import matplotlib.pyplot as plt\n",
    "titanic_df=sns.load_dataset('titanic')\n",
    "\n",
    "## plt menas plot, figsize is the plot size function for x, y size in inches, or pixel\n",
    "plt.figure(figsize=(10,6))  # A4 size = (16:9)\n",
    "\n",
    "## We need to set the data, x-axis and y-axis variable for scatter plot.\n",
    "## X and Y axis (variables) are the dataframe columns.\n",
    "## Before running program, adjust the plot size, or figure size above, like Figsize=(x,y)\n",
    "sns.scatterplot(x='fare',y='age',data=titanic_df)\n",
    "plt.show()\n",
    "\n",
    "### we also can group the above fare, and age variable data with hue for Gender based data\n",
    "sns.scatterplot(x=\"fare\", y=\"age\", hue=\"sex\", data=titanic_df)\n",
    "\n",
    "plt.title(\"Scatter plot of Fare vs Age\")\n",
    "plt.show()\n",
    "\n",
    "### For saving Scatter plot data into variable\n",
    "# scatterplot=sns.scatterplot(x='fare',y='age',data=titanic_df)\n",
    "# plt.show()"
   ]
  },
  {
   "cell_type": "markdown",
   "metadata": {},
   "source": [
    "Change the Color point \n",
    ">> Set the palette colors for variables and load into scatterplot function"
   ]
  },
  {
   "cell_type": "code",
   "execution_count": null,
   "metadata": {},
   "outputs": [],
   "source": [
    "# change the scatter point colors based on sex column\n",
    "import matplotlib.pyplot as plt\n",
    "import pandas as pd\n",
    "\n",
    "# load dataset\n",
    "df=sns.load_dataset('titanic')\n",
    "\n",
    "# Scatter plot size\n",
    "plt.figure() # we can size the figure like; plt.figure(figsize(8,4))\n",
    "\n",
    "palette = {'Male': 'blue', 'Female': 'red'}\n",
    "scatter = sns.scatterplot(data=df, x=\"age\", y=\"fare\", hue=\"sex\", palette=palette)\n",
    "plt.show()\n"
   ]
  },
  {
   "cell_type": "code",
   "execution_count": null,
   "metadata": {},
   "outputs": [],
   "source": [
    "#### Adding labels to the variables\n",
    "plt.xlabel('Age')\n",
    "plt.ylabel('Fare')\n",
    "\n",
    "# #### Showing title\n",
    "plt.title(\"Titanic Dataset\")\n",
    "\n",
    "# #### Showing the plot\n",
    "plt.show()\n",
    "\n",
    "\n",
    "\n"
   ]
  },
  {
   "cell_type": "code",
   "execution_count": null,
   "metadata": {},
   "outputs": [],
   "source": [
    "#### Saving Plot into png file\n",
    "### size are 150dpi for normal resolution, 300dpi for Good, 600dpi for large screen\n",
    "\n",
    "plt.savefig('scater_plot.png', dpi=300) # give file name to save with file extension, and dpi resolution size\n",
    "\n",
    "# We also can add height and width here in savefig() \n",
    "plt.savefig('scater_plot.png', dpi=300, width='8', height= '4') \n"
   ]
  },
  {
   "cell_type": "code",
   "execution_count": null,
   "metadata": {},
   "outputs": [],
   "source": [
    "#### Saving Plot into Vector file, such as svg file format\n",
    "\n",
    "plt.savefig('scater_plot.svg') # give file name to save with file extension, and dpi resolution size\n",
    "# we often need an Extention to view SVG file, In VS code we have 'SVG-Viewer' extenstion\n"
   ]
  },
  {
   "cell_type": "markdown",
   "metadata": {},
   "source": [
    "#### Setting directory Path to Save plot images\n",
    "\n"
   ]
  },
  {
   "cell_type": "code",
   "execution_count": null,
   "metadata": {},
   "outputs": [],
   "source": [
    "#### To save plot file in specific directory path \n",
    "plt.savefig('./output/plots/scater_plot.png', dpi=300) # give file name to save with file extension, and dpi resolution size\n"
   ]
  },
  {
   "cell_type": "markdown",
   "metadata": {},
   "source": [
    "#### Style of a Plot\n",
    "\n",
    "The style of the plot can be controlled by several parameters. These are: \n",
    "- `plot_type`: The type of plot to generate (either 'line', 'scatter' or 'histogram'). Default is\n",
    "'line'.\n",
    "- `color`: The color for the line/marker in the plot. Default is black ('black').\n",
    "- `size`: Size of the markers, if applicable. Default is 5.\n",
    "- `alpha`: Transparency of the marker fill. Values range from 0 (completely transparent) to 1 (opaque). Default is 1.\n",
    "- `linestyle`: Linestyle used for lines and markers. Can be one of 'solid', 'dashed', 'dashdot', or 'dotted'. Default is solid ('solid').\n",
    "- `linewidth`: Width of the line/marker border. Default is 2.\n",
    "- `markersize`: Marker size. Default is 6.\n",
    "- `markeredgewidth`: Line width of the marker edge. Default is 1.\n",
    "- `markerfacecolor`: Face color of the marker. Default is white ('white').\n",
    "- `label`: Label for this plot. If not specified, no label will appear on the legend.\n",
    "- `legend`: Whether to include this plot in the legend. Default is True.\n",
    "- `xscale`, `yscale`: Scale factors applied to x and y axes respectively.\n",
    "- `logx`, `logy`: Use log scaling for x and y axes respectively.\n",
    "- `xticks`, `yticks`: Lists of ticks to use for x and y axes respectively.\n",
    "- `xlim`, `ylim`: Limits for x and y axes respectively.\n",
    "- `title`: Title for the plot. If not specified, no title will appear.\n",
    "- `xlabel`, `ylabel`: X and Y axis labels. If not specified, default labels will be used.\n",
    "- `grid`: Show gridlines? Default is False.\n"
   ]
  },
  {
   "cell_type": "code",
   "execution_count": null,
   "metadata": {},
   "outputs": [],
   "source": [
    "#### Style of a Plot\n",
    "## To find out the Style libraries in sns, check at saeborn website\n",
    "# we are selecting the dark grid plot style\n",
    "sns.set_theme(style='darkgrid')\n",
    "\n",
    "# below this we will write the above scatter plot code\n",
    "\n",
    "# Scatter plot size\n",
    "plt.figure() # we can size the figure like; plt.figure(figsize(8,4))\n",
    "\n",
    "palette = {'Male': 'blue', 'Female': 'red'}\n",
    "scatter = sns.scatterplot(data=df, x=\"age\", y=\"fare\", hue=\"sex\", palette=palette)\n",
    "\n",
    "#### Adding labels to the variables\n",
    "plt.xlabel('Age')\n",
    "plt.ylabel('Fare')\n",
    "\n",
    "# #### Showing title\n",
    "plt.title(\"Titanic Dataset\")\n",
    "\n",
    "# #### Showing the plot\n",
    "plt.show()\n"
   ]
  },
  {
   "cell_type": "markdown",
   "metadata": {},
   "source": [
    "* we can also adding other parameters to the theme Style, like\n",
    "\n"
   ]
  },
  {
   "cell_type": "code",
   "execution_count": null,
   "metadata": {},
   "outputs": [],
   "source": [
    "sns.set_theme(style='darkgrid', font_scale=1.5, font='Times New Roman')"
   ]
  },
  {
   "cell_type": "markdown",
   "metadata": {},
   "source": [
    "#### How to Interpret the Scatter Plot"
   ]
  },
  {
   "cell_type": "code",
   "execution_count": null,
   "metadata": {},
   "outputs": [],
   "source": [
    "#### Tell the 'age' of passenger at x-axis and 'Fare' at y-axis \n",
    "# The scatter plot tells us the relationship between and Age and FloatingPointError\n",
    "# We further grouped the passenger by their Gender Male(blue), Femle(Red) points\n",
    "# Two male passenger gave the highets fare in titanic.\n",
    "# One female passenger had a higher age than any other passengers.\n",
    "import matplotlib.pyplot as plt\n",
    "import pandas as pd\n",
    "sns.set_theme(style='darkgrid', font_scale=1.2, font='Times New Roman')\n",
    "\n",
    "# Scatter plot size\n",
    "plt.figure(figsize=(12,6)) # we can size the figure like; plt.figure(figsize(8,4))\n",
    "\n",
    "palette = {'First': 'green', 'Second': 'red', 'Third': 'blue'}\n",
    "scatter = sns.scatterplot(data=df, x=\"sex\", y=\"age\", hue=\"class\", palette=palette)\n",
    "\n",
    "#### Adding labels to the variables\n",
    "plt.xlabel('Age')\n",
    "plt.ylabel('Fare')\n",
    "\n",
    "# #### Showing title\n",
    "plt.title(\"Titanic Dataset\")\n",
    "\n",
    "## chnge legend position and title\n",
    "plt.legend().texts[0].set_color('#FFA500')\n",
    "\n",
    "## Or direction at upper right \n",
    "plt.legend(loc='upper right', title='Class Name')\n",
    "\n",
    "## Or direction at lower right\n",
    "plt.legend(loc='lower right', title='Class Name')\n",
    "\n",
    "        "
   ]
  },
  {
   "cell_type": "markdown",
   "metadata": {},
   "source": [
    "### Bubble plot\n",
    "- we can convert the scatter plot points into bubble. with increasing or decreasing the value the size of point will increase or decrease into bubble shape "
   ]
  },
  {
   "cell_type": "code",
   "execution_count": null,
   "metadata": {},
   "outputs": [],
   "source": [
    "# Scatter plot size\n",
    "plt.figure(figsize=(16,6)) \n",
    "\n",
    "palette = {'Male': 'blue', 'Female': 'red'}\n",
    "### ADD size parameter into scatterplot() method\n",
    "scatter = sns.scatterplot(data=df, x=\"age\", y=\"fare\", hue=\"sex\", size='age', palette=palette)\n",
    "\n",
    "# Adding labels to the variables\n",
    "plt.xlabel('Age')\n",
    "plt.ylabel('Fare')\n",
    "\n",
    "# Showing title\n",
    "plt.title(\"Titanic Dataset\")"
   ]
  },
  {
   "cell_type": "markdown",
   "metadata": {},
   "source": [
    "#### Box Plot - boxplot()\n",
    "\n"
   ]
  },
  {
   "cell_type": "code",
   "execution_count": null,
   "metadata": {},
   "outputs": [],
   "source": [
    "import matplotlib.pyplot as plt\n",
    "import pandas as pd\n",
    "sns.set_theme(style='darkgrid', font_scale=1.2, font='Times New Roman')\n",
    "\n",
    "# Scatter plot size\n",
    "plt.figure(figsize=(12,6)) # we can size the figure like; plt.figure(figsize(8,4))\n",
    "\n",
    "palette = {'First': 'green', 'Second': 'red', 'Third': 'blue'}\n",
    "sns.boxplot(data=df, x=\"sex\", y=\"age\", hue=\"class\", palette=palette)\n",
    "\n",
    "#### Adding labels to the variables\n",
    "plt.xlabel('Age')\n",
    "plt.ylabel('Fare')\n",
    "\n",
    "# #### Showing title\n",
    "plt.title(\"Titanic Dataset- Scatter plot of Age vs Fare\")\n",
    "\n",
    "## chnge legend position and title\n",
    "plt.legend(loc='upper right', title='Class Name')\n"
   ]
  },
  {
   "cell_type": "markdown",
   "metadata": {},
   "source": [
    "#### Boxen Plot - boxenplot()"
   ]
  },
  {
   "cell_type": "code",
   "execution_count": null,
   "metadata": {},
   "outputs": [],
   "source": [
    "import matplotlib.pyplot as plt\n",
    "import pandas as pd\n",
    "sns.set_theme(style='whitegrid', font_scale=1.2, font='Times New Roman')\n",
    "\n",
    "# Scatter plot size\n",
    "plt.figure(figsize=(12,6)) # we can size the figure like; plt.figure(figsize(8,4))\n",
    "\n",
    "palette = {'First': 'green', 'Second': 'red', 'Third': 'blue'}\n",
    "sns.boxenplot(data=df, x=\"sex\", y=\"age\", hue=\"class\", palette=palette)\n",
    "\n",
    "#### Adding labels to the variables\n",
    "plt.xlabel('Gender')\n",
    "plt.ylabel('Age')\n",
    "\n",
    "# #### Showing title\n",
    "plt.title(\"Box plot of Age, based on Gender, and Class of Titanic passengers\")\n",
    "\n",
    "## chnge legend position and title\n",
    "plt.legend(loc='upper right', title='Class Name')"
   ]
  },
  {
   "cell_type": "markdown",
   "metadata": {},
   "source": [
    "##### Change the x-ticks nmes\n",
    "- we can change the x-ticks label name or its sequence\n",
    "- rotate the label to 45 or 90 angle"
   ]
  },
  {
   "cell_type": "code",
   "execution_count": null,
   "metadata": {},
   "outputs": [],
   "source": [
    "# plt.xticks()\n",
    "\n",
    "plt.xticks(ticks=[0,1], labels=[\"Male\", \"Female\"], rotation=90)"
   ]
  },
  {
   "cell_type": "markdown",
   "metadata": {},
   "source": [
    "#### Bar Plot - barplot()\n"
   ]
  },
  {
   "cell_type": "code",
   "execution_count": null,
   "metadata": {},
   "outputs": [],
   "source": [
    "import matplotlib.pyplot as plt\n",
    "import pandas as pd\n",
    "sns.set_theme(style='whitegrid', font_scale=1.2, font='Times New Roman')\n",
    "\n",
    "# Scatter plot size\n",
    "plt.figure(figsize=(12,6)) # we can size the figure like; plt.figure(figsize(8,4))\n",
    "\n",
    "palette = {'First': 'green', 'Second': 'red', 'Third': 'blue'}\n",
    "sns.boxenplot(data=df, x=\"sex\", y=\"age\", hue=\"class\", palette=palette)\n",
    "\n",
    "#### Adding labels to the variables\n",
    "plt.xlabel('Gender')\n",
    "plt.ylabel('Age')\n",
    "\n",
    "# #### Showing title\n",
    "plt.title(\"Box plot of Age, based on Gender, and Class of Titanic passengers\")\n",
    "\n",
    "## chnge legend position and title\n",
    "plt.legend(loc='upper right', title='Class Name')\n",
    "\n",
    "# plt.xticks() - change label direction and x-tick \n",
    "plt.xticks(ticks=[0,1], labels=[\"Male\", \"Female\"], rotation=90)"
   ]
  },
  {
   "cell_type": "markdown",
   "metadata": {},
   "source": [
    "### Scatter Plot with Plotly()\n",
    "- We can create the same scatter plot using Plotly library\n"
   ]
  },
  {
   "cell_type": "code",
   "execution_count": null,
   "metadata": {},
   "outputs": [],
   "source": [
    "\n",
    "import plotly.graph_objects as px\n",
    "# fig = px.Figure(data=[px.Scatter(x=df['Age'], y=df['Salary'])])\n",
    "fig = px.Scatter(df, x=df['Age'], y=df['Salary'], color = \"sex\")\n",
    "\n",
    "fig.show()\n"
   ]
  }
 ],
 "metadata": {
  "language_info": {
   "name": "python"
  }
 },
 "nbformat": 4,
 "nbformat_minor": 2
}
