{
 "cells": [
  {
   "cell_type": "markdown",
   "metadata": {},
   "source": [
    "## Day - 2 | PIAIC"
   ]
  },
  {
   "cell_type": "code",
   "execution_count": null,
   "metadata": {},
   "outputs": [],
   "source": []
  },
  {
   "cell_type": "markdown",
   "metadata": {},
   "source": [
    "## Day - 3 | PIAIC"
   ]
  },
  {
   "cell_type": "markdown",
   "metadata": {},
   "source": [
    "* day 3 "
   ]
  },
  {
   "cell_type": "markdown",
   "metadata": {},
   "source": [
    "## Day - 4 | PIAIC"
   ]
  },
  {
   "cell_type": "markdown",
   "metadata": {},
   "source": [
    "### Slicing a data\n",
    "- slicing of data can be done through \n",
    "    [starting : Ending : Step]"
   ]
  },
  {
   "cell_type": "code",
   "execution_count": null,
   "metadata": {},
   "outputs": [],
   "source": [
    "\n",
    "# list of Character from A to Z, with varible name characters\n",
    "characters : list [str] = ['A', 'B', 'C', 'D', 'E', 'F', 'G', 'H', 'I'\n",
    "                  ,'J','K','L','M','N','O','P','Q','R','S','T'\n",
    "                  ,'U','V','W','X','Y','Z']\n",
    "\n",
    "#list of numbers from 1-2 (at index 0, 1, 2)\n",
    "print(characters[0:2]) # including 0 index : index 2-1 = 1\n",
    "print(characters[-3:-1]) # excluding last element : index -3 = 67\n",
    "\n",
    "# Print(characters[::-1]) # Reverse \n",
    "\n",
    "#list of all elements in the list\n",
    "print(characters[:]) # index 0-25 = 26\n",
    "\n",
    "#list of all elements except first two and last one\n",
    "print(characters[2:24]) # index 2-24 = 22\n",
    "\n",
    "#list of all elements except first three and last one\n",
    "print(characters[3:23]) # index 3-23 = 20\n",
    "\n",
    "#list of all elements except first four and last one\n",
    "print(characters[4:22]) # index 4-22 = 18\n",
    "\n"
   ]
  },
  {
   "cell_type": "code",
   "execution_count": null,
   "metadata": {},
   "outputs": [],
   "source": [
    "print(len(characters)) # length of the list\n",
    "print(characters.count('A')) # count how many times character 'A' appears in the list\n",
    "print(characters.index('B')) # find first occurrence of value B and return its position\n",
    "print(characters.pop()) # remove the last item from the list\n",
    "print(characters) # print out the updated list after pop() function is used\n",
    "\n"
   ]
  },
  {
   "cell_type": "code",
   "execution_count": null,
   "metadata": {},
   "outputs": [],
   "source": [
    "characters.insert(5,'X') # insert X at the fifth position\n",
    "print(characters) # print out the updated list after inserting a new item\n"
   ]
  },
  {
   "cell_type": "code",
   "execution_count": null,
   "metadata": {},
   "outputs": [],
   "source": [
    "del characters[4] # delete the item located at index 4\n",
    "print(characters) # print out the updated list after deleting an item\n"
   ]
  },
  {
   "cell_type": "code",
   "execution_count": null,
   "metadata": {},
   "outputs": [],
   "source": [
    "characters:list = ['A','B', 'C', 'D', 'E', 'F', 'G']\n",
    "characters.reverse() # reverse order of items in the list\n",
    "print(characters) # print out the updated list after reversing the order\n",
    "\n",
    "# or we can reverse throhgh\n",
    "# Print(characters[ : :-1])\n",
    "\n",
    "# Print(characters[ : :1])  # -> Positive slicing (left to right)\n",
    "# Print(characters[ -2: -5:-1])  # -> Negative slicing (right to left)"
   ]
  },
  {
   "cell_type": "code",
   "execution_count": null,
   "metadata": {},
   "outputs": [],
   "source": [
    "characters.sort() # sort the items in ascending alphabetical order\n",
    "print(characters) # print out the updated list after sorting it\n"
   ]
  },
  {
   "cell_type": "code",
   "execution_count": null,
   "metadata": {},
   "outputs": [],
   "source": [
    "characters.append('_') # add '_' as the last item in the list\n",
    "print(characters) # print out the updated list after appending a new item\n"
   ]
  },
  {
   "cell_type": "code",
   "execution_count": null,
   "metadata": {},
   "outputs": [],
   "source": [
    "characters.remove('_') # remove the item that equals '_'\n",
    "print(characters) # print out the updated list after removing an item\n"
   ]
  },
  {
   "cell_type": "code",
   "execution_count": null,
   "metadata": {},
   "outputs": [],
   "source": [
    "characters.clear() # clear all items from the list\n",
    "print(characters) # print out the updated list after clearing all items\n"
   ]
  },
  {
   "cell_type": "markdown",
   "metadata": {},
   "source": [
    "#### LIST MOTHODS"
   ]
  },
  {
   "cell_type": "code",
   "execution_count": null,
   "metadata": {},
   "outputs": [],
   "source": [
    "names : list[str] = ['Qasim', 'Zia', 'Zaaki']\n",
    "print(names)\n",
    "\n",
    "names[0] = \"Muhammad Qasim\"     # mutable -> Editble\n",
    "# print(names)                  # Error: Immutable object has no attribute '__setitem__'\n",
    "\n",
    "name_list = [\"Ali\", \"Hassan\"]    # mutable -> Editable\n",
    "name_list.append(\"Saleem\")       # mutable -> Editable\n",
    "print(name_list)                # Output: ['Ali', 'Hassan', 'Saleem']\n",
    "\n",
    "\n"
   ]
  },
  {
   "cell_type": "markdown",
   "metadata": {},
   "source": [
    "## Day - 5 | PIAIC \n",
    "* Itteration\n"
   ]
  },
  {
   "cell_type": "code",
   "execution_count": null,
   "metadata": {},
   "outputs": [],
   "source": [
    "names : list [str] = {'sir Zai', 'sir qasim', 'DR Zaki'}\n",
    "age:int=25\n",
    "gender:str='male'\n",
    "address:str=\"Islamabad\"\n",
    "salary:float=1000.34\n",
    "def print_info(names, age, gender, address, salary):\n",
    "    for name in names:\n",
    "        print(\"Name : \",name)\n",
    "        print(\"Age  : \",age)\n",
    "        print(\"Gender   : \",gender)\n",
    "        print(\"Address  : \",address)\n",
    "        print(\"Salary   : \",salary)\n",
    "        print_info(names, age, gender, address, salary)\n",
    "        print_info(names, age, gender, address, salary)\n"
   ]
  },
  {
   "cell_type": "markdown",
   "metadata": {},
   "source": [
    "#### Itteration of data from list\n",
    "\n",
    "##### Itteration od data can acieve through FOR loop"
   ]
  },
  {
   "cell_type": "code",
   "execution_count": null,
   "metadata": {},
   "outputs": [],
   "source": [
    "# Basic Itteration of Iterands\n",
    "\n",
    "teachers : list [str] = {'sir Zai', 'sir qasim', 'DR Zaki'}\n",
    "\n",
    "for teacher in teachers:\n",
    "    print(teacher)\n",
    "    "
   ]
  },
  {
   "cell_type": "markdown",
   "metadata": {},
   "source": [
    "* The FOR loop body start next line of for_loop:\n",
    "* The indentation area of 4-line space bacame under the for loop function area. \n"
   ]
  },
  {
   "cell_type": "code",
   "execution_count": null,
   "metadata": {},
   "outputs": [],
   "source": [
    "names : list [str] = {'Zai', 'qasim', 'zaki'}\n",
    "\n",
    "for name in names:\n",
    "    print(name)     # this is loop area object\n",
    "print(\"Done!\")      # This will not became under the loop area.\n",
    "\n",
    "######   \n",
    "\n",
    "teachers : list [str] = {'sir Zai', 'sir qasim', 'DR Zaki'}\n",
    "\n",
    "for teacher in teachers:\n",
    "    # print(teacher)\n",
    "    print(f\"Welcome Dear Teacher {teacher.title()}\")\n",
    "    print('PIAIC Gen AI Team \\n')\n",
    "    # the above two line code will itterated, because of same identation these will becaomma a part of loop\n",
    "print(\"Pakistan Zindaabad\")     # this line will inot itterated bucause this aline in not under identation (for loop area)\n",
    "# so we can use different indentation for different block of codes\n",
    "\n"
   ]
  },
  {
   "cell_type": "markdown",
   "metadata": {},
   "source": [
    "#### How to <b> Extract (Slice) </b> a Data from List, Tupple or Dictionary\n",
    "In Python, we can extract data from list, tuple and dictionary using slicing. Here is an example of how you can do it:\n",
    "\n",
    "##### what is different between [0:2] or [1:2] and [-2:0] in slicing\n",
    "\n",
    "* To Extract first 2 element from list\n",
    "<code>\n",
    "list = [1,2,3,4]\n",
    "print(list[0:2])  # Output : [1,2]\n",
    "</code>\n",
    "\n",
    "* To extract last element from a list\n",
    "<code>\n",
    "list = [1,2,3,4]\n",
    "print(list[-1])   # Output : 4\n",
    "</code>\n",
    "\n",
    "* To extract second last element from a list\n",
    "<code>\n",
    "list = [1,2,3,4]\n",
    "print(list[-2])   # Output : 3\n",
    "</code>\n",
    "\n",
    "* To Extract all elements except the first one from list\n",
    "<code>\n",
    "list = [1,2,3,4]\n",
    "print(list[1:])    # Output : [2,3,4]\n",
    "</code>\n",
    "\n",
    "* To extract last 2 elements from a list\n",
    "<code>\n",
    "list = [1,2,3,4]\n",
    "print(list[-2:-1])  # Output : [3,4]\n",
    "</code>\n",
    "\n",
    "* To extract all but the last element from a list\n",
    "<code>\n",
    "list = [1,2,3,4]\n",
    "print(list[:-1])    # Output : [1,2,3]\n",
    "</code>\n",
    "\n",
    "* To find the sum of all elements in a list\n",
    "<code>\n",
    "def sum_of_elements(lst): \n",
    "    retun sum(lst)  # Or\n",
    "    \n",
    "    list = [1,2,3,4]\n",
    "    print(sum_of_elements(list))   \n",
    "    Output : 10\n",
    "</code>\n",
    "\n"
   ]
  },
  {
   "cell_type": "code",
   "execution_count": null,
   "metadata": {},
   "outputs": [],
   "source": [
    "#### Print first-two elements fro a list\n",
    "teachers : list [str] = {'sir Zai', 'sir qasim', 'DR Zaki'}\n",
    "\n",
    "for teacher in teachers[0:2]:\n",
    "    # print(teacher)\n",
    "    print(f\"Welcome Dear Teacher {teacher.title()}\")\n",
    "    print('PIAIC Gen AI Team \\n')\n",
    "print(\"Pakistan Zindaabad\")\n",
    "    # Output:\n",
    "    # Welcome Dear Teacher Sir Zai\n",
    "    # PIAIC Gen AI Team\n",
    "    # Pakistan Zindaabad\n",
    "\\\n",
    "    # Welcome Dear Teacher Sir Qasim\n",
    "    # PIAIC Gen AI Team\n",
    "    # Pakistan Zindaabad\n",
    "\\\n",
    "\n",
    " \n",
    "#### Print last-two elements fro a list\n",
    "teachers : list [str] = {'sir Zai', 'sir qasim', 'DR Zaki'}\n",
    "\n",
    "for teacher in teachers[-2:]:\n",
    "    # print(teacher)\n",
    "    print(f\"Welcome Dear Teacher {teacher.title()}\")\n",
    "    print('PIAIC Gen AI Team \\n')\n",
    "        # Output:\n",
    "    # Welcome Dear Teacher Qasim\n",
    "    # PIAIC Gen AI Team\n",
    " \n",
    "\\\n",
    "    # Welcome Dear Teacher Sir Zaki\n",
    "    # PIAIC Gen AI Team\n",
    "\n",
    "\n",
    "\n",
    "\n",
    "### what is different between [0:2] or [1:2] and [-2:0] in slicing\n",
    "def extract_data(lst):\n",
    "    print(\"[0:2]: \", lst[0:2])  # slice data from index 0 to 2\n",
    "    print(\"[-2:0]:\", lst[-2:0])  # slice data from last two elements to first element\n",
    "    print(\"[1:2]: \", lst[1:2])  # slice data from second element to third element\n",
    "    extract_data([1, 2, 3, 4, 5])\n",
    "    # Output:\n",
    "    # [0:2]:  [1, 2]\n",
    "    # [-2:0]: []\n",
    "    # [1:2]:  [2]\n",
    "\n",
    "\n",
    "# Slicing with step parameter\n",
    "def extract_step(lst):\n",
    "    print(\"Step=2: \", lst[::2])\n",
    "extract_step([1, 2, 3, 4, 5])\n",
    "# Output: Step=2:  [1, 3, 5]\n",
    "\n",
    "\n",
    "# Slicing with negative start and end parameters\n",
    "def extract_negative(lst):\n",
    "    print(\"Negative Start End: \", lst[-3:-1])\n",
    "    extract_negative([1, 2, 3, 4, 5])\n",
    "    # Output: Negative Start End:  [3, 4]\n",
    "\n",
    "\n",
    "# Slicing with list comprehension\n",
    "def extract_comprehension(lst):\n",
    "    result = [x for x in lst if x > 2]\n",
    "    print(\"List Comprehension: \", result)\n",
    "    extract_comprehension([1, 2, 3, 4, 5])\n",
    "    # Output: # List Comprehension:  [3, 4, ]\n",
    "\n",
    "## To Extract first 2 element from list\n",
    "\n",
    "list = [1,2,3,4]\n",
    "print(list[0:2])  # Output : [1,2]\n",
    "\n",
    "## To extract last element from a list\n",
    "\n",
    "list = [1,2,3,4]\n",
    "print(list[-1])   ## Output : 4\n",
    "\n",
    "## To extract last 2 elements from a list\n",
    "\n",
    "list = [1,2,3,4]\n",
    "print(list[-2:-1])  # Output : [3,4]\n",
    "## To extract all but the last element from a list\n",
    "\n",
    "list = [1,2,3,4]\n",
    "print(list[:-1])    # Output : [1,2,3]\n",
    "\n",
    "\n",
    "## To find the sum of all elements in a list\n",
    "\n",
    "def sum_of_elements(lst): \n",
    "    # retun sum(lst)\n",
    "    list = [1,2,3,4]\n",
    "    print(sum_of_elements(list))   \n",
    "    # Output : 10\n"
   ]
  },
  {
   "cell_type": "markdown",
   "metadata": {},
   "source": [
    "#### Create List Of Tuple\n",
    "\n",
    "##### Ctreate Database \n",
    "* contains list of tuples\n",
    "* each tuple has two elements (name, age)\n",
    "* name is string and age is integer\n",
    "* example: ('John', 25), ('Mike', 30), ('Jane', 28)\n",
    "\n",
    "##### Create Table\n",
    "* create table with columns 'Name' and 'Age'\n",
    "* Name column type should be varchar(100)\n",
    "* Age column type should be int\n",
    "\n",
    "\n",
    "<code>\n",
    "list_of_tuple = [(\"John\", \"Doe\"), (\"Jane\", \"Smith\")]\n",
    "print(create_database(list_of_tuple))\n",
    "</code>\n",
    "\n"
   ]
  },
  {
   "cell_type": "code",
   "execution_count": null,
   "metadata": {},
   "outputs": [],
   "source": [
    "# create database variable for tupple having elements of user name and their password\n",
    "\n",
    "database : list[tuple(str,str)] = [(\"qasim\", '123')\n",
    "                                   (\"zia\", '345')\n",
    "                                   (\"ali\",\"678\")\n",
    "                                   ]\n",
    "for row in database:\n",
    "    print(row) \n",
    "    # Output:\n",
    "    # ('qasim', '123')\n",
    "    # ('zia', '345')\n",
    "    # ('ali','678')\n",
    "    "
   ]
  },
  {
   "cell_type": "markdown",
   "metadata": {},
   "source": [
    "<p> NOw we a list of tupples of user name and password, we can perform operation to get the results from the list,</p>\n",
    "\n",
    "*  first we will Unzip the list , like: user, password = row\n",
    "\n",
    "* This will create local variables of user and password, and assign them values of user and password"
   ]
  },
  {
   "cell_type": "code",
   "execution_count": null,
   "metadata": {},
   "outputs": [],
   "source": [
    "# tupple having elements of user name and their password\n",
    "\n",
    "database : list[tuple(str,str)] = [(\"qasim\", '123')\n",
    "                                   (\"zia\", '345')\n",
    "                                   (\"ali\",\"678\")\n",
    "                                   ]\n",
    "for row in database:\n",
    "    user, password = row\n",
    "    print(user, password)\n",
    "        # print(f\"User: {user}, Password: {password}\") \n",
    "    # Output: \n",
    "    # qasim 123\n",
    "    # zia 345\n",
    "    # ali 678\n",
    "    "
   ]
  },
  {
   "cell_type": "markdown",
   "metadata": {},
   "source": [
    "### To check login"
   ]
  },
  {
   "cell_type": "code",
   "execution_count": null,
   "metadata": {},
   "outputs": [],
   "source": [
    "database : list[tuple(str,str)] = [(\"qasim\", '123')\n",
    "                                   (\"zia\", '345')\n",
    "                                   (\"ali\",\"678\")\n",
    "                                   ]\n",
    "input_user = (\"Enter User name\")\n",
    "input_pass = (\"Enter Password\")\n",
    "\n",
    "for row in database:\n",
    "    user, password = row\n",
    "    if input_user == user and input_pass == password:\n",
    "        print(f\"{user}: {password}, are valid!\")\n",
    "    break\n",
    "# if we want to print message, if record not found.\n",
    "else:\n",
    "    print(f\"Not Found ot Invalid User Name.\")\n",
    "\n"
   ]
  },
  {
   "cell_type": "markdown",
   "metadata": {},
   "source": [
    "#### Insert new tuple into a list"
   ]
  },
  {
   "cell_type": "code",
   "execution_count": null,
   "metadata": {},
   "outputs": [],
   "source": [
    "# If you want to add new users then you can do it like this:\n",
    "new_user = input('Please enter a new username: ')\n",
    "new_password = input('Please enter a new password: ')\n",
    "database.append((new_user, new_password))\n",
    "print('New user added successfully!')\n"
   ]
  },
  {
   "cell_type": "markdown",
   "metadata": {},
   "source": [
    "#### To check thee inserted Tupple, wether saved or not."
   ]
  },
  {
   "cell_type": "code",
   "execution_count": null,
   "metadata": {},
   "outputs": [],
   "source": [
    "# Now we will check if the entered username and password is correct or not.\n",
    "user_name = input('Enter your UserName: ')\n",
    "pass_word = input('Enter your Password: ')\n",
    "if (user_name == row[0]) & (pass_word == row[1]):\n",
    "    print('Login Successful! Welcome ', row[0], '. You are now logged in.')\n",
    "else:\n",
    "    print('Invalid Login Credentials. Please try again with valid credentials.')"
   ]
  },
  {
   "cell_type": "markdown",
   "metadata": {},
   "source": [
    "#### Update the tuplle"
   ]
  },
  {
   "cell_type": "code",
   "execution_count": null,
   "metadata": {},
   "outputs": [],
   "source": [
    "\n",
    "# To update an existing user's details you can use following code:\n",
    "update_username = input('Please enter the username whose detail you want to update: ')\n",
    "update_password = input('Please enter the updated password: ')\n",
    "for i in range(len(database)):\n",
    "    if database[i][0] == update_username:\n",
    "        database[i] = (update_username, update_password)\n",
    "        break\n",
    "    else:\n",
    "        continue\n",
    "    print('User details have been updated successfully!')\n",
    "else:\n",
    "    print('No such user found. Please provide a valid username.')\n",
    "\n"
   ]
  },
  {
   "cell_type": "markdown",
   "metadata": {},
   "source": [
    "#### To Delete the "
   ]
  },
  {
   "cell_type": "code",
   "execution_count": null,
   "metadata": {},
   "outputs": [],
   "source": [
    "\n",
    "# To delete an existing user from the database you can use following code:\n",
    "delete_username = input('Please enter the username whom you want to delete: ')\n",
    "for i in range(len(database)-1,-1,-1):\n",
    "    if database[i][0] == delete_username:\n",
    "        del database[i]\n",
    "        print('User deleted successfully!')\n",
    "        break\n",
    "    else:\n",
    "        continue\n",
    "else:\n",
    "    print('No such user found. Please provide a valid username.')\n",
    "\n"
   ]
  },
  {
   "cell_type": "markdown",
   "metadata": {},
   "source": [
    "#### Load the Tupple list again to check the entries\n",
    "\n",
    "* To display all the users present in the database you can use following code:\n"
   ]
  },
  {
   "cell_type": "code",
   "execution_count": null,
   "metadata": {},
   "outputs": [],
   "source": [
    "\n",
    "# To display all the users present in the database you can use following code:\n",
    "for row in database:\n",
    "    print(row)\n",
    "    \\\n",
    "   \n",
    "    '''\n",
    "    \\\n",
    "    Note that here I used '\\' for line continuation as Python does not allow more than one statement on same line\n",
    "    Note that here I am assuming that the first element of each tuple represents the username and second one represents the password.\n",
    "    Note that these codes assume that there is already some data stored in the list named \"database\".\n",
    "    \\\n",
    "    '''"
   ]
  },
  {
   "cell_type": "markdown",
   "metadata": {},
   "source": [
    "#### Numbers with Loop\n",
    "\n",
    "* we use range() method while playing with numbers in loop\n",
    "<code>\n",
    "range(10)\n",
    "</code>\n",
    "It will give us a sequence of number from 0 to 9.\n",
    "\n",
    "* We can also start the sequence at any other number, for example:\n",
    "<code>\n",
    "range(2, 10)\n",
    "</code>\n",
    "This will give us a sequence starting from 2 and ending at 9.\n",
    "\n",
    "* If you want to skip some steps or go backward, you can do it like this:\n",
    "<code>\n",
    "range(3, 15, 4) # starts at 3, ends before 15, skips every 4th step\n",
    "</code>\n"
   ]
  },
  {
   "cell_type": "code",
   "execution_count": null,
   "metadata": {},
   "outputs": [],
   "source": [
    "list(range[10])     #strating = 0, ending = n-1\n",
    "\n",
    "list(range(2,10))   # start from 2, end with 9 (n-1).\n",
    "\n",
    "list(range(2,21,21))  #start=0, end= n-1, step=2\n",
    "#starting=2, ending=20 and step size of 2.\n",
    "\n",
    "# define variable n and apply FOR loop to itterate 2 table\n",
    "# but we donot need the name list\n",
    "for n in range(2,11):\n",
    "    print(n)\n",
    "\n",
    "    ''' with step number, to reapeat x2 each time  '''\n",
    " \n",
    "for n in range(2,21,2):\n",
    "    print(n)    ## Output: 2, 4, 6, ..., 20\n"
   ]
  },
  {
   "cell_type": "markdown",
   "metadata": {},
   "source": [
    "#### enumerate() function \n",
    "* The `enumerate()` function in Python is a built-in function that allows us to iterate over an iterable object and have an automatic counter added\n",
    "* The `enumerate()` function is a built-in Python function that allows us to loop over something and have an automatic counter. It returns an enumer\n",
    "* The `enumerate()` function return the indexed number of any iterrated datatype, which can unzip\n",
    "the data from a list or tuple.\n"
   ]
  },
  {
   "cell_type": "code",
   "execution_count": null,
   "metadata": {},
   "outputs": [],
   "source": [
    "# enumerate() function on list\n",
    "magician = ['alice', 'david', 'carolle']\n",
    "list(enumerate(magician))\n",
    "# Output: [(0, 'alice'), (1, 'david'), (2, 'carolle')]\n"
   ]
  },
  {
   "cell_type": "code",
   "execution_count": null,
   "metadata": {},
   "outputs": [],
   "source": [
    "# enumerate() function for itteration of value from list\n",
    "magician = ['alice', 'david', 'carolle']\n",
    "for index, name in enumerate(magician):\n",
    "    print(index,name)\n",
    "    # output: 0 alice\n",
    "    #         1 david\n",
    "    #         2 carolle\n"
   ]
  },
  {
   "cell_type": "code",
   "execution_count": null,
   "metadata": {},
   "outputs": [],
   "source": [
    "# enumerate() function for itteration of value from list\n",
    "# with index [0+1 = 1]\n",
    "magician = ['alice', 'david', 'carolle']\n",
    "for index, value in enumerate(magician):\n",
    "    print(\"{}: {}\".format(index+1,value))\n",
    "    # output: 1: alice, 2: david, 3: carolle\n",
    "\n",
    "    "
   ]
  },
  {
   "cell_type": "markdown",
   "metadata": {},
   "source": [
    "#### range() function\n",
    "\n",
    "* The `range()` function in Python is a built-in function that allows you to create an iterable sequence of numbers. It takes three arguments\n",
    "* The `range()` function is a built-in Python function that allows you to generate a sequence of numbers. It takes three arguments: the starting \n",
    "* The `range()` function in Python is used to generate a sequence of numbers over time. It can be used for looping, indexing and other purposes "
   ]
  },
  {
   "cell_type": "code",
   "execution_count": null,
   "metadata": {},
   "outputs": [],
   "source": [
    "# Excerse: Write a program that Print Table of 2\n",
    "# prints the table of 2 in python from 1 to 10.\n",
    "for n in range (1, 11):\n",
    "  print(f\"{2} X {n} = {n*2}\")"
   ]
  },
  {
   "cell_type": "code",
   "execution_count": null,
   "metadata": {},
   "outputs": [],
   "source": [
    "# prints the table of 2 in python from 1 to 20.\n",
    "\n",
    "for i in range (1, 20+1):\n",
    "  print(\"2 *\",i,\"=\",2*i)"
   ]
  },
  {
   "cell_type": "code",
   "execution_count": null,
   "metadata": {},
   "outputs": [],
   "source": [
    "# prints the Power of 2 in python from 1 to 10.\n",
    "\n",
    "for i in range (1, 11):\n",
    "  print(i**2)\n",
    "  # Output:\n",
    "  # 4\n",
    "  # 9\n",
    "  # 16\n",
    "  # 25\n",
    "  "
   ]
  },
  {
   "cell_type": "markdown",
   "metadata": {},
   "source": [
    "#### List Comprehensive Style\n",
    "\n"
   ]
  },
  {
   "cell_type": "code",
   "execution_count": null,
   "metadata": {},
   "outputs": [],
   "source": [
    "# prints the power of 2 in python from 1 to 10, using Comprehensive style.\n",
    "# Comprehensive list style work the same like in range but in single line of code.\n",
    "\n",
    "print([i**2 for i in range (1, 10)])\n",
    "# this will print [4,9,16,25,36,49,64,81]"
   ]
  },
  {
   "cell_type": "code",
   "execution_count": null,
   "metadata": {},
   "outputs": [],
   "source": [
    "print([(x**2) for x in range (1, 21)])\n",
    "# this will print [(1,), (4,), (9,), (16,), (25,), (36,\n",
    "#), (49,), (64,), (81,)]"
   ]
  },
  {
   "cell_type": "code",
   "execution_count": null,
   "metadata": {},
   "outputs": [],
   "source": []
  },
  {
   "cell_type": "markdown",
   "metadata": {},
   "source": [
    "#### Simple Statistic with a List of Number\n"
   ]
  },
  {
   "cell_type": "code",
   "execution_count": null,
   "metadata": {},
   "outputs": [],
   "source": [
    "# write a list of digits from 1 to 10.\n",
    "# sort the list in ascending order and print it out.\n",
    "digits: list [int] = [1,2,3,4,5,6,7,8,9,10]\n",
    "print(digits)\n",
    "\n",
    "print(min(digits))  # print the minimum value of list\n",
    "print(max(digits))  # print the maximum value from list\n",
    "print(sum(digits))  # sum the values in list\n",
    "\n",
    "print(\"Sorted List: \", sorted(digits))\n",
    "\n",
    "\n",
    "# find the sum of all elements in the list.\n",
    "sum_of_elements = sum(digits)\n",
    "print(\"Sum of Elements: \", sum_of_elements)\n",
    "\n",
    "\n",
    "# find the index of element '5' in the list if present or else return -1\n",
    "index_of_element = digits.index(5) if 5 in digits else -1\n",
    "print('Index of Element 5 is :', index_of_element)\n",
    "\n",
    "\n",
    "# remove all occurrences of digit '5' from the list\n",
    "new_list = [i for i in digits if i != 5]\n",
    "print('List after removing 5s : ', new_list)\n",
    "\n",
    "\n",
    "# check if '5' exists in the list\n",
    "exists = True if 5 in new_list else False\n",
    "print('Does 5 exist in the list? : ', exists)\n",
    "\n",
    "\n",
    "# count number of times '5' appears in the list\n",
    "count = new_list.count(5)\n",
    "print('Number of times 5 appears in the list : ', count)\n",
    "\n",
    "\n",
    "# reverse the list\n",
    "reversed_list = new_list[::-1]\n",
    "print('Reverse of the list : ', reversed_list)\n",
    "\n",
    "\n",
    "# sum of elements in the list\n",
    "sum_elements = sum(new_list)\n",
    "print('Sum of elements in the list : ', sum_elements)\n",
    "\n",
    "\n",
    "# average of elements in the list\n",
    "average_elements = sum_elements / len(new_list)\n",
    "print('Average of elements in the list : ', average_elements)\n",
    "\n",
    "# product of elements in the list\n",
    "product_elements = 1\n",
    "for num in new_list:\n",
    "    product_elements *= num\n",
    "    print('Product of elements in the list : ', product_elements)\n",
    "    \n",
    "\n",
    "# check if any even numbers are there in the list\n",
    "    even_numbers = []\n",
    "    for num in new_list:\n",
    "        if num % 2 == 0:\n",
    "            even_numbers.append(num)\n",
    "            print('Even Numbers in the list : ', even_numbers)\n",
    "            \n",
    "\n",
    "# check if any odd numbers are there in the list\n",
    "            odd_numbers = []\n",
    "            for num in new_list:\n",
    "                if num % 2 != 0:\n",
    "                    odd_numbers.append(num)\n",
    "                    print('Odd Numbers in the list : ', odd_numbers)\n",
    "                    break\n",
    "\n",
    "\n",
    "\n",
    "digits = [1,2,3,4,5,6,7,8,9,10]\n",
    "print(sorted(digits))\n",
    "\n",
    "\n",
    "digits = [1]"
   ]
  },
  {
   "cell_type": "code",
   "execution_count": null,
   "metadata": {},
   "outputs": [],
   "source": [
    "# python\n",
    "'''\n",
    "def simple_statistics(numbers):\n",
    "    n = len(numbers)  # number of elements in the list\n",
    "\n",
    "mean = sum(numbers)/n   # calculate the mean\n",
    "\n",
    "median = sorted(numbers)[n//2] if n % 2 == 1 else (sorted(numbers)[n//2 -\n",
    "1] + sorted(numbers)[n//2]) / 2.0    # median value of numbers\n",
    "\n",
    "mode = max(set([num for num in numbers]), key=numbers.count)    # mode value of numbers\n",
    "\n",
    "variance = sum((x-mean)**2 for x in numbers)/n     # variance of numbers\n",
    "\n",
    "standard_deviation = variance ** 0.5      # standard deviation of numbers\n",
    "\n",
    "print({\"Mean\": mean, \"Median\": median, \"Mode\": mode, \"Variance\": variance, \"Standard Deviation\": standard_deviation})\n",
    "\n",
    "# Testing with a sample data set\n",
    "print(simple_statistics([34, 78, 96, 12, 78, 96]))\n",
    "\n",
    "'''\n",
    "\n",
    "\n"
   ]
  },
  {
   "cell_type": "markdown",
   "metadata": {},
   "source": [
    "## Day 11 - "
   ]
  },
  {
   "cell_type": "code",
   "execution_count": null,
   "metadata": {},
   "outputs": [],
   "source": [
    "x : int = 7\n",
    "b : int = 7\n",
    "\n",
    "print(f\"X is {x} and X address is {id(x)}\")\n",
    "print(f\"B is {b} and B address is {id(b)}\")\n"
   ]
  },
  {
   "cell_type": "code",
   "execution_count": null,
   "metadata": {},
   "outputs": [],
   "source": [
    "x : int = 7\n",
    "b : int = 7\n",
    "\n",
    "print(f\"X is {x} and X address is {id(x)}\")\n",
    "print(f\"B is {b} and B address is {id(b)}\")\n",
    "\n",
    "b = 200 # when the value change, it will change the  address\n",
    "print(f\"\\nAfter changing b to 200\\nb is {b} and b address is {id(b)}\")\n"
   ]
  },
  {
   "cell_type": "code",
   "execution_count": null,
   "metadata": {},
   "outputs": [],
   "source": [
    "## In Function - Imuable values doesnot change but it change it reference value when it updated. convert to new object.\n",
    "a : int = 5\n",
    "print(f\"First assignment of variable a value is {id(a)}\")\n",
    "\n",
    "def abc(num1:int)->None:\n",
    "    print(f\"\\tHello, value of start of function {num1} address {id(num1)}\")\n",
    "    num1= 6     # copy now , it will change / update object\n",
    "    \n",
    "    print(f\"\\tHello, after changing the local variable inside function {num1} address {id(num1)}\") # change here\n",
    "    print(f\"\\tEnd of Program\")\n",
    "    return None\n",
    "\n",
    "abc(a)  # pass by vlaue - Imutable\n",
    "print(\"Hello, outside function {a} address {id(a)}\")"
   ]
  },
  {
   "cell_type": "code",
   "execution_count": null,
   "metadata": {},
   "outputs": [],
   "source": [
    "#### List - by value by reference\n",
    "##### \n",
    "\n",
    "a : list[int] = [1, 2, 3, 4]\n",
    "\n",
    "def abc(num1:list[int])->None:\n",
    "    num1.append(200)    # added on element \n",
    "    print(f\"num1 List after modification\", num1)\n",
    "\n",
    "abc(a)  # Pass by reference (Imutable data type)\n",
    "print(\"List a \", a)\n",
    "\n",
    "\n"
   ]
  },
  {
   "cell_type": "code",
   "execution_count": null,
   "metadata": {},
   "outputs": [],
   "source": [
    "#### List - by value by reference\n",
    "##### create New object , reassign new value\n",
    "\n",
    "a : list[int] = [1, 2, 3, 4]\n",
    "\n",
    "def abc(num1:list[int])->None:\n",
    "    num1:list[int] = [7] # reassign new value to list variable => it will create New Object\n",
    "    num1.append(200)    # added on element \n",
    "    print(f\"num1 List after modification\", num1)\n",
    "\n",
    "abc(a)  # Pass by reference (Imutable data type)\n",
    "print(\"List a \", a)"
   ]
  },
  {
   "cell_type": "code",
   "execution_count": null,
   "metadata": {},
   "outputs": [],
   "source": [
    "a : list[int] = [1, 2, 3, 4] # mutable\n",
    "b : list[int] = [1, 2, 3, 4] # mutable. have different memery \n",
    "\n",
    "print (id(a))\n",
    "print (id(b))"
   ]
  },
  {
   "cell_type": "code",
   "execution_count": null,
   "metadata": {},
   "outputs": [],
   "source": [
    "##### Another Example\n",
    "\n",
    "a : list[int] = [1, 2, 3, 4]\n",
    "b : int = a[0] # copy of the first element in a\n",
    "c : int = id(a) # get memory address of object 'a'\n",
    "d : int = id(b) # get memory address of object 'b', which is also the same as 'a' because b is just\n",
    "\n",
    "# a copy of the first element in a. So it points to the same location in memory.\n",
    "e : bool = (b == c) # check if both variables point to the same place in memory\n",
    "f : bool = (b == d) # check if both variables point to the same place in memory\n",
    "g : str = \"The original list has been modified.\"\n",
    "h : str = f\"{g} The variable 'b' and 'd' are pointing to the same memory address: {e}\"\n",
    "print(h)\n",
    "\n"
   ]
  },
  {
   "cell_type": "markdown",
   "metadata": {},
   "source": [
    "#### Error Handling\n",
    "##### Types of Error's\n",
    "\n",
    "- \n",
    "- Run time Error \n",
    "    - ZeroDivisionError     # wrong input value of user to the division\n",
    "    - IndexError    # wrong index number from list\n",
    "    - TypeError     # when we update tupple (immutable)\n"
   ]
  },
  {
   "cell_type": "markdown",
   "metadata": {},
   "source": [
    "## Day 12"
   ]
  },
  {
   "cell_type": "markdown",
   "metadata": {},
   "source": [
    "<div class=\"markdown-google-sans\">\n",
    "\n",
    "## Day13 - OOPs\n",
    "\n",
    "</div>\n",
    "\n",
    "#### Programming Paradigm\n",
    "- Linear programming - Itteration process of instruction, which takes lot time and hard in edit/update, or sorting/finding in large data set.\n",
    "- Structure Programming ' still issue in update, edit \n",
    "- OOP Object-Oriented Programming: Object based programming. Object contains **Method** and **Properties** (Methods are actions that are performed. Attributes/properties are the values relates to object, like: name, cnic, height, age or any value that hold/relates for object)\n"
   ]
  },
  {
   "cell_type": "markdown",
   "metadata": {},
   "source": [
    "\n",
    "#### OOPs (Object Oriented Program)\n",
    "> Class\n",
    "- Class is a blueprint for creating objects (a particular data structure), providing initial values for state and behavior of the object. An instance of a \n",
    "- **Methods** and **attributes** are same in real world. These object would put in **Class**.\n",
    "\n",
    "* **Class**:\n",
    "    - first argument must be additional variable, like (self, this, or anything else)\n",
    "    * self is a reference to the current instance of the class\n",
    "    - If you want to access any attribute from outside the class then use `self` keyword\n",
    "\n",
    "* **Method**:\n",
    "    - Methods: Functionality of the Object/Attribute\n",
    "    - Method can also call another method inside it using `self`\n",
    "    - Example: `def __init__(self):` is a method which initializes an instance of a class.\n",
    "    - Example: `def display(self):` is a method which displays an attribute value.\n",
    "    - Example: `name = \"John\"` is an attribute with name as John.\n",
    "    - Example: `age = 25` is an attribute with age as 25.\n",
    "\n",
    "* **Attributes/ Properties:**\n",
    "    - object properties or values for their attributes, like age, eye color, heirgt, subject, profession, etc\n",
    "\n",
    "* **Constructor:**\n",
    "    -  ```def __init__```\n",
    "\n",
    "* **Class Variable:**\n",
    "    - They belong to the class not the instances of that class.- \n",
    "    - Suppose, har student k hath py ghari (watch) hoge mgr school m class jis time py lgti h usi time lgy ge na k student k ghari k time mutabik.isi trha chutti b usi time ho gy jo school k ghari m time hoga. \n",
    "    - Isi trha Class variable , aisi cheez jo k tmamm class k tamam objects k leye same ho, us ko hum **class variable** kehty hian.\n",
    "    - ye ksi constructor m define nhi hoty, ksi variable m define nhi ho skti \n",
    "    - Call krny ka tareeka ``` ClassName.class_variable```\n",
    "\n",
    "* **Instance Variables:**\n",
    "    - They belong to the objects created by the class.-\n",
    "\n",
    "\n",
    "\n",
    "##### Syntax of Class\n",
    "\n",
    "```\n",
    "class ClassName():\n",
    "\n",
    "```\n",
    "##### Example"
   ]
  },
  {
   "cell_type": "code",
   "execution_count": null,
   "metadata": {},
   "outputs": [],
   "source": [
    "# Class with 3 Methods, and 2 Properties of speaking and teaching.\n",
    "class Teacher():\n",
    "    def __init__(self, teacher_id : int , teacher_name : str) -> None:     # Method/Constructor. When method used with __init__, its called construtor.\n",
    "        # when def is call outside the Class is known as Function. But when we use it within Class it will known as  Method of a that class.\n",
    "        self.name : str = teacher_name      # self is method, while name is attribute         \n",
    "        self.teacher_id : int =  teacher_id     # Attribute\n",
    "        self.department_name : str = \"PIAIC\"        # Attribute\n",
    "\n",
    "\n",
    "    def speak(self, words : str):   # call another method.\n",
    "        print(f\"{self.name} is speaking {words}\")\n",
    "\n",
    "\n",
    "    def teaching(self, subject : str )-> None:  # another method.\n",
    "        print(f\"{self.name} is teaching {subject}\")"
   ]
  },
  {
   "cell_type": "markdown",
   "metadata": {},
   "source": [
    "> Call Objects"
   ]
  },
  {
   "cell_type": "code",
   "execution_count": null,
   "metadata": {},
   "outputs": [],
   "source": [
    "# Initialize Object >> Calling __init__ Constructor only this time.\n",
    "obj1 : Teacher = Teacher(1, \"Sir Zia\")  # Object1 is an object/instance of Teacher Class.\n",
    "obj2 : Teacher = Teacher(2, \"Sir Usman\")\n",
    "# Object : class = Constructor with values\n",
    "\n"
   ]
  },
  {
   "cell_type": "markdown",
   "metadata": {},
   "source": [
    "##### Print the Object 1 values"
   ]
  },
  {
   "cell_type": "code",
   "execution_count": null,
   "metadata": {},
   "outputs": [],
   "source": [
    "print(obj1.name)\n",
    "print(obj1.teacher_id)\n",
    "print(obj1.department_name)\n",
    "\n"
   ]
  },
  {
   "cell_type": "markdown",
   "metadata": {},
   "source": [
    "#### Class Variable\n",
    "\n",
    "- Suppose, har student k hath py ghari (watch) hoge mgr school m class jis time py lgti h usi time lgy ge na k student k ghari k time mutabik.isi trha chutti b usi time ho gy jo school k ghari m time hoga. \n",
    "- Isi trha Class variable , aisi cheez jo k tmamm class k tamam objects k leye same ho, us ko hum **class variable** kehty hian.\n",
    "- ye ksi constructor m define nhi hoty, ksi variable m define nhi ho skti \n",
    "- Call krny ka tareeka ``` ClassNAme.class_variable```\n",
    "\n",
    "```\n",
    "      class ClassName()\n",
    "        class_variable1 : type = value\n",
    "```\n",
    "\n",
    "##### Example"
   ]
  },
  {
   "cell_type": "code",
   "execution_count": null,
   "metadata": {},
   "outputs": [],
   "source": [
    "'''syntax\n",
    "    class ClassName():\n",
    "       class_variable1 : type = value\n",
    "'''\n",
    "\n",
    "class Teacher():\n",
    "    \n",
    "    # salary: float = 0.0\n",
    "    # name: str = \"\"\n",
    "    # age: int = 0\n",
    "    # subject: str = \"\"\n",
    "    # def __init__(self, n:str, a:int, s:float):\n",
    "    #     self.name = n\n",
    "    #     self.age = a\n",
    "    #     self.salary = s\n",
    "    \n",
    "\n",
    "    helpline_number : str = \"09154362\" # class variable1. Static for all objects\n",
    "    counter : int = 0       # class variable2\n",
    "\n",
    "    def __init__(self, teacher_id : int , teacher_name : str) -> None:     # Method/Constructor. When method used with __init__, its called construtor.\n",
    "        self.name : str = teacher_name      # self is method, while name is attribute         \n",
    "        self.teacher_id : int =  teacher_id     # Attribute\n",
    "        Teacher.counter += 1\n",
    "  \n",
    "\n",
    "    def speak(self, words : str):   # call another method.\n",
    "        print(f\"{self.name} is speaking {words}\")\n",
    "\n",
    "\n",
    "    def teaching(self, subject : str )-> None:  # another method.\n",
    "        print(f\"{self.name} is teaching {subject}\")\n",
    "        \n",
    "\n",
    "    def details(self)-> None:  # another method.\n",
    "        information : str = f\"\"\"\n",
    "            Teacher name is {self.name} \n",
    "            Our help line number is {self.helpline_number}\n",
    "        \"\"\"\n",
    "        print(information)\n",
    "        "
   ]
  },
  {
   "cell_type": "code",
   "execution_count": null,
   "metadata": {},
   "outputs": [],
   "source": [
    "#  Initialize Object >> Calling __init__ Constructor only this time.\n",
    "obj1 : Teacher = Teacher(1, \"Sir Zia\")  # Object1 is an object/instance of Teacher Class.\n",
    "print(Teacher.counter, obj1.counter)    # Teacher.counter and obj1.countrer has same output\n"
   ]
  },
  {
   "cell_type": "code",
   "execution_count": null,
   "metadata": {},
   "outputs": [],
   "source": [
    "obj2 : Teacher = Teacher(2, \"Sir Zey\")  # Object1 is an object/instance of Teacher Class.\n",
    "print(Teacher.counter, obj1.counter)    # Teacher.counter and obj1.countrer has same output\n"
   ]
  },
  {
   "cell_type": "code",
   "execution_count": null,
   "metadata": {},
   "outputs": [],
   "source": [
    "print(obj1.counter)\n",
    "print(obj2.counter)\n",
    "print(Teacher.counter)\n",
    "\n",
    "print(obj1.helpline_number)\n",
    "print(obj2.helpline_number)\n",
    "print(Teacher.helpline_number)"
   ]
  },
  {
   "cell_type": "markdown",
   "metadata": {},
   "source": [
    "#### 4 pillars of OOPs\n",
    "\n",
    "1. Inheritance:\n",
    "- It is a mechanism in which classes can inherit properties and methods from another class. This allows for code reuse, reducing the amount of duplicate code that\n",
    "Inheritance is a mechanism in which classes can inherit properties and methods from another class. This allows for the creation of more specific subclasses that build\n",
    "Inheritance is a mechanism in which classes can inherit properties and methods from another class. This allows for code reuse, making the development process more efficient\n",
    "2. Encapsulation: It is the process by which data and functions are bundled into a single unit (class) in an object-\n",
    "- Abstraction: It is the process of hiding the complexity and showing only essential features. In other words, it helps us to understand complex systems\n",
    "- Abstraction: It is the process of hiding the complexity and showing only essential features. In other words, it helps in simplifying complex systems\n",
    "3. Abstraction: \n",
    "- Definition: The process of hiding the complexity and showing only essential features to the user or client. It is a way to simplify complex systems by\n",
    "4. Polymorphism:\n",
    "\n",
    "5. Encapsulation:\n",
    "6. Exception Handling\n",
    "7. Static and Dynamic Binding\n",
    "8. Scope Resolution\n"
   ]
  },
  {
   "cell_type": "markdown",
   "metadata": {},
   "source": [
    "##### Inheritance\n",
    "Inheritance is a mechanism in object-oriented programming where classes can inherit properties and methods from another class. This allows for code reuse,\n",
    "[13 Class Python Crash Course | OOP (class, method, attributes, class variable, inheritance, super](https://www.youtube.com/watch?v=l0PFRL58AZk)"
   ]
  },
  {
   "cell_type": "code",
   "execution_count": null,
   "metadata": {},
   "outputs": [],
   "source": [
    "class Parents():\n",
    "    def __init__(self) -> None:\n",
    "        self.eye_color : str = \"Brown\"\n",
    "        self.hair_type : str = \"Black\"\n",
    "        self.height : int = 170\n",
    "        self.weight : float = 65.4\n",
    "       \n",
    "        class Child(Parents):\n",
    "            pass\n",
    "        self.child = Child()\n",
    "        p = Parents()\n",
    "        print(\"Parent's eye color is\",p.eye_color)\n",
    "        print(\"Child's eye color is\",self.child.eye_color)\n",
    "        \\\n",
    "        "
   ]
  },
  {
   "attachments": {
    "image.png": {
     "image/png": "[encoded data removed]"
    }
   },
   "cell_type": "markdown",
   "metadata": {},
   "source": [
    "\n",
    "\n",
    "![Lucid App - Class Structure](attachment:image.png)"
   ]
  },
  {
   "cell_type": "code",
   "execution_count": null,
   "metadata": {},
   "outputs": [],
   "source": [
    "class Employee():\n",
    "    def __init__(self) -> None:\n",
    "        self.name : str = \"\"\n",
    "        self.education : str = \"\"\n",
    "        self.department : str = \"\"\n",
    "\n",
    "\n",
    "## Child class Designer \n",
    "class Designer(Employee):\n",
    "        def __init__(self, title : str) -> None:\n",
    "            super().__init__()\n",
    "            self.title : str = title\n",
    "\n",
    "## Child class Dev \n",
    "class Developer(Employee):\n",
    "     def __init__(self, language :str) -> None:\n",
    "          super().__init__()\n",
    "          self.language : str = language\n",
    "          self.programming_skills : list[str] = []\n",
    "          # self.skills : list[str] = []\n",
    "\n",
    "# Create a new employee object and add to the list of employees\n",
    "emp1 = Employee()\n",
    "emp2 = Designer(\"Senior\")\n",
    "emp3 = Developer(\"Python\")\n",
    "listOfEmployees = [emp1, emp2, emp3]\n",
    "print(f\"{len(listOfEmployees)} Employees in List.\")\n",
    "\n",
    "\n",
    "designer1 : Designer = Designer(\"Animation Artist\")\n",
    "developer1 : Developer = Developer(\"C++\")\n",
    "developer2 : Developer = Developer(\"Java\")\n",
    "\n",
    "# Add developer skills to their respective objects\n",
    "developer1.programming_skills.append(\"Game Development\")\n",
    "developer2.programming_skills.append(\"Website Building\")\n",
    "\n",
    "# Add all developers to the list of employees\n",
    "listOfEmployees += [designer1, developer1, developer2]\n",
    "print(f\"{len(listOfEmployees)} Employees in List.\")\n",
    "for i in range(0, len(listOfEmployees)):\n",
    "     print(f\"\\n\\nEmployee {i+1}: \\nName: {listOfEmployees[i].name} \\\n",
    "           Education: {listOfEmployees[i].education}\\\n",
    "           Department: {listOfEmployees[i].department}\")\n"
   ]
  },
  {
   "cell_type": "code",
   "execution_count": null,
   "metadata": {},
   "outputs": [],
   "source": []
  },
  {
   "cell_type": "markdown",
   "metadata": {},
   "source": [
    "#### Static Methods and Variables\n",
    "- static method k liye object create karna padega\n",
    "- static variables k liye object create karna padega\n",
    "- static keyword use karege class methods or variables\n",
    "\n"
   ]
  }
 ],
 "metadata": {
  "language_info": {
   "name": "python"
  }
 },
 "nbformat": 4,
 "nbformat_minor": 2
}
