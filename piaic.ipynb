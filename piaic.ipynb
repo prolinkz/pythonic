{
 "cells": [
  {
   "cell_type": "markdown",
   "metadata": {},
   "source": [
    "## Day - 4 | PIAIC"
   ]
  },
  {
   "cell_type": "code",
   "execution_count": null,
   "metadata": {},
   "outputs": [],
   "source": []
  },
  {
   "cell_type": "markdown",
   "metadata": {},
   "source": [
    "## Day - 5 | PIAIC "
   ]
  },
  {
   "cell_type": "code",
   "execution_count": null,
   "metadata": {},
   "outputs": [],
   "source": [
    "names : list [str] = {'sir Zai', 'sir qasim', 'DR Zaki'}\n",
    "age:int=25\n",
    "gender:str='male'\n",
    "address:str=\"Islamabad\"\n",
    "salary:float=1000.34\n",
    "def print_info(names, age, gender, address, salary):\n",
    "    for name in names:\n",
    "        print(\"Name : \",name)\n",
    "        print(\"Age  : \",age)\n",
    "        print(\"Gender   : \",gender)\n",
    "        print(\"Address  : \",address)\n",
    "        print(\"Salary   : \",salary)\n",
    "        print_info(names, age, gender, address, salary)\n",
    "        print_info(names, age, gender, address, salary)\n"
   ]
  },
  {
   "cell_type": "markdown",
   "metadata": {},
   "source": [
    "# Itteration if data from list\n",
    "## Itteration od data can acieve through FOR loop\n",
    "\n"
   ]
  },
  {
   "cell_type": "code",
   "execution_count": null,
   "metadata": {},
   "outputs": [],
   "source": [
    "# Basic Itteration of Iterands\n",
    "\n",
    "teachers : list [str] = {'sir Zai', 'sir qasim', 'DR Zaki'}\n",
    "\n",
    "for teacher in teachers:\n",
    "    print(teacher)\n",
    "    "
   ]
  },
  {
   "cell_type": "markdown",
   "metadata": {},
   "source": [
    "* The FOR loop body start next line of for_loop:\n",
    "* The indentation area of 4-line space bacame under the for loop function area. \n"
   ]
  },
  {
   "cell_type": "code",
   "execution_count": null,
   "metadata": {},
   "outputs": [],
   "source": [
    "names : list [str] = {'Zai', 'qasim', 'zaki'}\n",
    "\n",
    "for name in names:\n",
    "    print(name)     # this is loop area object\n",
    "print(\"Done!\")      # This will not became under the loop area.\n",
    "\n",
    "######   \n",
    "\n",
    "teachers : list [str] = {'sir Zai', 'sir qasim', 'DR Zaki'}\n",
    "\n",
    "for teacher in teachers:\n",
    "    # print(teacher)\n",
    "    print(f\"Welcome Dear Teacher {teacher.title()}\")\n",
    "    print('PIAIC Gen AI Team \\n')\n",
    "    # the above two line code will itterated, because of same identation these will becaomma a part of loop\n",
    "print(\"Pakistan Zindaabad\")     # this line will inot itterated bucause this aline in not under identation (for loop area)\n",
    "# so we can use different indentation for different block of codes\n",
    "\n"
   ]
  },
  {
   "cell_type": "markdown",
   "metadata": {},
   "source": [
    "### How to <b> Extract (Slice) </b> a Data from List, Tupple or Dictionary\n",
    "In Python, we can extract data from list, tuple and dictionary using slicing. Here is an example of how you can do it:\n",
    "\n",
    "#### what is different between [0:2] or [1:2] and [-2:0] in slicing\n",
    "\n",
    "* To Extract first 2 element from list\n",
    "<code>\n",
    "list = [1,2,3,4]\n",
    "print(list[0:2])  # Output : [1,2]\n",
    "</code>\n",
    "\n",
    "* To extract last element from a list\n",
    "<code>\n",
    "list = [1,2,3,4]\n",
    "print(list[-1])   # Output : 4\n",
    "</code>\n",
    "\n",
    "* To extract second last element from a list\n",
    "<code>\n",
    "list = [1,2,3,4]\n",
    "print(list[-2])   # Output : 3\n",
    "</code>\n",
    "\n",
    "* To Extract all elements except the first one from list\n",
    "<code>\n",
    "list = [1,2,3,4]\n",
    "print(list[1:])    # Output : [2,3,4]\n",
    "</code>\n",
    "\n",
    "* To extract last 2 elements from a list\n",
    "<code>\n",
    "list = [1,2,3,4]\n",
    "print(list[-2:-1])  # Output : [3,4]\n",
    "</code>\n",
    "\n",
    "* To extract all but the last element from a list\n",
    "<code>\n",
    "list = [1,2,3,4]\n",
    "print(list[:-1])    # Output : [1,2,3]\n",
    "</code>\n",
    "\n",
    "* To find the sum of all elements in a list\n",
    "<code>\n",
    "def sum_of_elements(lst): \n",
    "    # retun sum(lst)\n",
    "    list = [1,2,3,4]\n",
    "    print(sum_of_elements(list))   \n",
    "    ## Output : 10\n",
    "</code>\n",
    "\n"
   ]
  },
  {
   "cell_type": "code",
   "execution_count": null,
   "metadata": {},
   "outputs": [],
   "source": [
    "#### Print first-two elements fro a list\n",
    "teachers : list [str] = {'sir Zai', 'sir qasim', 'DR Zaki'}\n",
    "\n",
    "for teacher in teachers[0:2]:\n",
    "    # print(teacher)\n",
    "    print(f\"Welcome Dear Teacher {teacher.title()}\")\n",
    "    print('PIAIC Gen AI Team \\n')\n",
    "print(\"Pakistan Zindaabad\")\n",
    "    # Output:\n",
    "    # Welcome Dear Teacher Sir Zai\n",
    "    # PIAIC Gen AI Team\n",
    "    # Pakistan Zindaabad\n",
    "\\\n",
    "    # Welcome Dear Teacher Sir Qasim\n",
    "    # PIAIC Gen AI Team\n",
    "    # Pakistan Zindaabad\n",
    "\\\n",
    "\n",
    " \n",
    "#### Print last-two elements fro a list\n",
    "teachers : list [str] = {'sir Zai', 'sir qasim', 'DR Zaki'}\n",
    "\n",
    "for teacher in teachers[-2:]:\n",
    "    # print(teacher)\n",
    "    print(f\"Welcome Dear Teacher {teacher.title()}\")\n",
    "    print('PIAIC Gen AI Team \\n')\n",
    "        # Output:\n",
    "    # Welcome Dear Teacher Qasim\n",
    "    # PIAIC Gen AI Team\n",
    " \n",
    "\\\n",
    "    # Welcome Dear Teacher Sir Zaki\n",
    "    # PIAIC Gen AI Team\n",
    "\n",
    "\n",
    "\n",
    "\n",
    "### what is different between [0:2] or [1:2] and [-2:0] in slicing\n",
    "def extract_data(lst):\n",
    "    print(\"[0:2]: \", lst[0:2])  # slice data from index 0 to 2\n",
    "    print(\"[-2:0]:\", lst[-2:0])  # slice data from last two elements to first element\n",
    "    print(\"[1:2]: \", lst[1:2])  # slice data from second element to third element\n",
    "    extract_data([1, 2, 3, 4, 5])\n",
    "    # Output:\n",
    "    # [0:2]:  [1, 2]\n",
    "    # [-2:0]: []\n",
    "    # [1:2]:  [2]\n",
    "\n",
    "\n",
    "# Slicing with step parameter\n",
    "def extract_step(lst):\n",
    "    print(\"Step=2: \", lst[::2])\n",
    "extract_step([1, 2, 3, 4, 5])\n",
    "# Output: Step=2:  [1, 3, 5]\n",
    "\n",
    "\n",
    "# Slicing with negative start and end parameters\n",
    "def extract_negative(lst):\n",
    "    print(\"Negative Start End: \", lst[-3:-1])\n",
    "    extract_negative([1, 2, 3, 4, 5])\n",
    "    # Output: Negative Start End:  [3, 4]\n",
    "\n",
    "\n",
    "# Slicing with list comprehension\n",
    "def extract_comprehension(lst):\n",
    "    result = [x for x in lst if x > 2]\n",
    "    print(\"List Comprehension: \", result)\n",
    "    extract_comprehension([1, 2, 3, 4, 5])\n",
    "    # Output: # List Comprehension:  [3, 4, ]\n",
    "\n",
    "## To Extract first 2 element from list\n",
    "\n",
    "list = [1,2,3,4]\n",
    "print(list[0:2])  # Output : [1,2]\n",
    "\n",
    "## To extract last element from a list\n",
    "\n",
    "list = [1,2,3,4]\n",
    "print(list[-1])   ## Output : 4\n",
    "\n",
    "## To extract last 2 elements from a list\n",
    "\n",
    "list = [1,2,3,4]\n",
    "print(list[-2:-1])  # Output : [3,4]\n",
    "## To extract all but the last element from a list\n",
    "\n",
    "list = [1,2,3,4]\n",
    "print(list[:-1])    # Output : [1,2,3]\n",
    "\n",
    "\n",
    "## To find the sum of all elements in a list\n",
    "\n",
    "def sum_of_elements(lst): \n",
    "    # retun sum(lst)\n",
    "    list = [1,2,3,4]\n",
    "    print(sum_of_elements(list))   \n",
    "    # Output : 10\n"
   ]
  },
  {
   "cell_type": "markdown",
   "metadata": {},
   "source": [
    "### Create List Of Tuple\n",
    "\n",
    "#### Ctreate Database \n",
    "* contains list of tuples\n",
    "* each tuple has two elements (name, age)\n",
    "* name is string and age is integer\n",
    "* example: ('John', 25), ('Mike', 30), ('Jane', 28)\n",
    "#### Create Table\n",
    "* create table with columns 'Name' and 'Age'\n",
    "* Name column type should be varchar(100)\n",
    "* Age column type should be int\n",
    "\n",
    "\n",
    "<code>\n",
    "list_of_tuple = [(\"John\", \"Doe\"), (\"Jane\", \"Smith\")]\n",
    "print(create_database(list_of_tuple))\n",
    "</code>\n",
    "\n"
   ]
  },
  {
   "cell_type": "code",
   "execution_count": null,
   "metadata": {},
   "outputs": [],
   "source": [
    "# create database variable for tupple having elements of user name and their password\n",
    "\n",
    "database : list[tuple(str,str)] = [(\"qasim\", '123')\n",
    "                                   (\"zia\", '345')\n",
    "                                   (\"ali\",\"678\")\n",
    "                                   ]\n",
    "for row in database:\n",
    "    print(row) \n",
    "    # Output:\n",
    "    # ('qasim', '123')\n",
    "    # ('zia', '345')\n",
    "    # ('ali','678')\n",
    "    "
   ]
  },
  {
   "cell_type": "markdown",
   "metadata": {},
   "source": [
    "<p> NOw we a list of tupples of user name and password, we can perform operation to get the results from the list,</p>\n",
    "\n",
    "*  first we will Unzip the list , like: user, password = row\n",
    "\n",
    "* This will create local variables of user and password, and assign them values of user and password"
   ]
  },
  {
   "cell_type": "code",
   "execution_count": null,
   "metadata": {},
   "outputs": [],
   "source": [
    "# tupple having elements of user name and their password\n",
    "\n",
    "database : list[tuple(str,str)] = [(\"qasim\", '123')\n",
    "                                   (\"zia\", '345')\n",
    "                                   (\"ali\",\"678\")\n",
    "                                   ]\n",
    "for row in database:\n",
    "    user, password = row\n",
    "    print(user, password) \n",
    "    # Output: \n",
    "    # qasim 123\n",
    "    # zia 345\n",
    "    # ali 678\n",
    "    "
   ]
  },
  {
   "cell_type": "markdown",
   "metadata": {},
   "source": [
    "### Insert new tuple into a list"
   ]
  },
  {
   "cell_type": "code",
   "execution_count": null,
   "metadata": {},
   "outputs": [],
   "source": [
    "# If you want to add new users then you can do it like this:\n",
    "new_user = input('Please enter a new username: ')\n",
    "new_password = input('Please enter a new password: ')\n",
    "database.append((new_user, new_password))\n",
    "print('New user added successfully!')\n"
   ]
  },
  {
   "cell_type": "markdown",
   "metadata": {},
   "source": [
    "### To check thee inserted Tupple, wether saved or not."
   ]
  },
  {
   "cell_type": "code",
   "execution_count": null,
   "metadata": {},
   "outputs": [],
   "source": [
    "# Now we will check if the entered username and password is correct or not.\n",
    "user_name = input('Enter your UserName: ')\n",
    "pass_word = input('Enter your Password: ')\n",
    "if (user_name == row[0]) & (pass_word == row[1]):\n",
    "    print('Login Successful! Welcome ', row[0], '. You are now logged in.')\n",
    "else:\n",
    "    print('Invalid Login Credentials. Please try again with valid credentials.')"
   ]
  },
  {
   "cell_type": "markdown",
   "metadata": {},
   "source": [
    "### Update the tuplle"
   ]
  },
  {
   "cell_type": "code",
   "execution_count": null,
   "metadata": {},
   "outputs": [],
   "source": [
    "\n",
    "# To update an existing user's details you can use following code:\n",
    "update_username = input('Please enter the username whose detail you want to update: ')\n",
    "update_password = input('Please enter the updated password: ')\n",
    "for i in range(len(database)):\n",
    "    if database[i][0] == update_username:\n",
    "        database[i] = (update_username, update_password)\n",
    "        break\n",
    "    else:\n",
    "        continue\n",
    "    print('User details have been updated successfully!')\n",
    "else:\n",
    "    print('No such user found. Please provide a valid username.')\n",
    "\n"
   ]
  },
  {
   "cell_type": "markdown",
   "metadata": {},
   "source": [
    "### To Delete the "
   ]
  },
  {
   "cell_type": "code",
   "execution_count": null,
   "metadata": {},
   "outputs": [],
   "source": [
    "\n",
    "# To delete an existing user from the database you can use following code:\n",
    "delete_username = input('Please enter the username whom you want to delete: ')\n",
    "for i in range(len(database)-1,-1,-1):\n",
    "    if database[i][0] == delete_username:\n",
    "        del database[i]\n",
    "        print('User deleted successfully!')\n",
    "        break\n",
    "    else:\n",
    "        continue\n",
    "else:\n",
    "    print('No such user found. Please provide a valid username.')\n",
    "\n"
   ]
  },
  {
   "cell_type": "markdown",
   "metadata": {},
   "source": [
    "#### Load the Tupple list again to check the entries"
   ]
  },
  {
   "cell_type": "code",
   "execution_count": null,
   "metadata": {},
   "outputs": [],
   "source": [
    "\n",
    "\n",
    "\n",
    "\n",
    "# To display all the users present in the database you can use following code:\n",
    "for row in database:\n",
    "    print(row)\n",
    "    \\\n",
    "   \n",
    "    '''\n",
    "    \\\n",
    "    Note that here I used '\\' for line continuation as Python does not allow more than one statement on same line\n",
    "    Note that here I am assuming that the first element of each tuple represents the username and second one represents the password.\n",
    "    Note that these codes assume that there is already some data stored in the list named \"database\".\n",
    "    \\\n",
    "    '''"
   ]
  }
 ],
 "metadata": {
  "language_info": {
   "name": "python"
  }
 },
 "nbformat": 4,
 "nbformat_minor": 2
}
