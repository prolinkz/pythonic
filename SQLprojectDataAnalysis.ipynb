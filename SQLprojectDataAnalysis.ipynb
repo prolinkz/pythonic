{
 "cells": [
  {
   "cell_type": "code",
   "execution_count": null,
   "metadata": {},
   "outputs": [],
   "source": []
  },
  {
   "cell_type": "markdown",
   "metadata": {},
   "source": [
    "## Data Analysis SQL Project\n",
    "\n",
    "> Data manipulaion and Data Execution\n",
    "\n"
   ]
  },
  {
   "cell_type": "markdown",
   "metadata": {},
   "source": [
    "- Undesrtand the business problem\n",
    "- Importing liabraries\n",
    "- Database connection to extract data\n",
    "- Exploring the tables present in the Database to identify the Key Variables\n",
    "- Analyzing the key variables\n",
    "- Creating Reportwith all the results and Analysis for company"
   ]
  },
  {
   "cell_type": "markdown",
   "metadata": {},
   "source": [
    "### bjective\n",
    "* Airline SQL database project data analysis to improve it occupancy (profit margin) and reduced toperational expenses\n",
    "\n",
    "\n",
    "### tImporting Libraries"
   ]
  },
  {
   "cell_type": "code",
   "execution_count": null,
   "metadata": {},
   "outputs": [],
   "source": [
    "import sqlite3\n",
    "import pandas as pd\n",
    "import matplotlib.pyplot\n",
    "import seaboarn as sns\n",
    "\n",
    "import warnings\n",
    "warnings.filterwarnings(\"ignore\")\n",
    "\n"
   ]
  },
  {
   "cell_type": "markdown",
   "metadata": {},
   "source": [
    "#### Database Connection"
   ]
  },
  {
   "cell_type": "code",
   "execution_count": null,
   "metadata": {},
   "outputs": [],
   "source": [
    "# make connection with travel SQL database\n",
    "connection = sqlite3.connect('trave.sqlite')\n",
    "cursor = connection.cursor()\n"
   ]
  },
  {
   "cell_type": "markdown",
   "metadata": {},
   "source": [
    "#### Data Exploration"
   ]
  },
  {
   "cell_type": "code",
   "execution_count": null,
   "metadata": {},
   "outputs": [],
   "source": [
    "# Once connection established, we need to explore the database\n",
    "cursor.execute(\"\"\"select name from sqlite_master where type = 'table';\"\"\")\n",
    "print('List of table present in database')\n",
    "\n",
    "# To fetch and list all the cursor tables\n",
    "table_list = [table[0] for table in cursor.fetchall()]\n",
    "table_list  # Output: List of tables in database\n",
    "\n",
    "\n",
    "# To find rows in the executed cursor, We also this method\n",
    "for row in cursor:\n",
    "    print(row)\n"
   ]
  },
  {
   "cell_type": "code",
   "execution_count": null,
   "metadata": {},
   "outputs": [],
   "source": [
    "#    We now can epxplore the tables data\n",
    "# To data from SQL table the method is read_sql_query\n",
    "# we will pass the Select query and Connection paramemeter\n",
    "aircrafts_data = pd.read_sql_query(\"select * from aircrafts_data\", connection)\n",
    "aircrafts_data.head()\n",
    "## Or\n",
    "aircrafts_data\n",
    "\n",
    "### We also can find the number of Rows and Columns, with \n",
    "aircrafts_data.shape    # Output: (9, 3) 9- rows, 3-columns\n"
   ]
  },
  {
   "cell_type": "code",
   "execution_count": null,
   "metadata": {},
   "outputs": [],
   "source": [
    "# Now read another table, named airport_data\n",
    "airports_data = pd.read_sql_query(\"select * from airports_data\", connection)\n",
    "airports_data"
   ]
  },
  {
   "cell_type": "code",
   "execution_count": null,
   "metadata": {},
   "outputs": [],
   "source": [
    "# Third table is boarding_passes\n",
    "boarding_passes = pd.read_sql_query(\"select * from boarding_passes\", connection)\n",
    "boarding_passes"
   ]
  },
  {
   "cell_type": "code",
   "execution_count": null,
   "metadata": {},
   "outputs": [],
   "source": [
    "# Forth table is bookings\n",
    "bookings = pd.read_sql_query(\"select * from bookings\", connection)\n",
    "bookings"
   ]
  },
  {
   "cell_type": "code",
   "execution_count": null,
   "metadata": {},
   "outputs": [],
   "source": [
    "##### Similarly open and explore all the database tables data, \n",
    "# like, seats, tickets, flights, \n",
    "\n",
    "# For example, let's say we want to see what's in our 'users' table:\n",
    "table_data = pd.read_sql_query(\"SELECT * FROM users;\", connection)\n",
    "print(table_data)\n"
   ]
  },
  {
   "cell_type": "code",
   "execution_count": null,
   "metadata": {},
   "outputs": [],
   "source": [
    "for table in table_list:\n",
    "    column_info = connection.execute(\"PRAGMA table_info({})\".format(table))\n",
    "    print(\"\\nTable: {}\".format(column_info)) # if this fetch the column data then comment this line\n",
    "    # Or\n",
    "    print('\\ntable:', table)\n",
    "\n",
    "    \n",
    "# for table in table_list:\n",
    "#     column_info = connection.execute(\"PRAGMA table_info({})\".format(table))\n",
    "#     print(\"\\nTable: {}\".format(table))\n",
    "#     columns = [column[1] for column in column_info.fetchall() if not column[2]]  # ignore primary key\n",
    "#     print(\", \".join(columns))\n",
    "\n",
    "\n",
    "    # Now fetch all the columns\n",
    "    for column in column_info.fetchall():\n",
    "        # print(\"Column Name: {}, Data Type: {}, Not Null? {}\")\n",
    "        print(column[1:3])  # we also slice the indexing [1:3]\n",
    "\n",
    "    \n",
    "    "
   ]
  },
  {
   "cell_type": "markdown",
   "metadata": {},
   "source": [
    "> Check for missing values in tables\n"
   ]
  },
  {
   "cell_type": "code",
   "execution_count": null,
   "metadata": {},
   "outputs": [],
   "source": [
    "# Now check for the missing values data in database\n",
    "for table in table_list:\n",
    "    print('\\ntable:', table)\n",
    "    # call dataframe df variable and sstore all the tables data\n",
    "    df_table = pd.read_sql_query(f\"select * from {table}\", connection)\n",
    "    print(df_table.isnull().sum()) \n",
    "    # If value against each row shows 0, its means no missing data found, and the data is complete, consistent and clean.\n",
    "\n",
    "\n"
   ]
  },
  {
   "cell_type": "markdown",
   "metadata": {},
   "source": [
    "### Basic Analysis\n",
    "\n",
    "#### How many planes have more than 100 seats?"
   ]
  },
  {
   "cell_type": "code",
   "execution_count": null,
   "metadata": {},
   "outputs": [],
   "source": [
    "# Count the total seats for each aircraft_code, and find if seats > 100\n",
    "pd.read_sql_query(\"\"\"select aircraft_code, count(*) as num_seats\n",
    "                  group by aircraft_code having num_seats > 100\"\"\", connection)\n",
    "                # we used 'Group by' and 'having' clause in query \n"
   ]
  },
  {
   "cell_type": "markdown",
   "metadata": {},
   "source": [
    "##### How much number of tickets booked and Total amount earned cheanged with time"
   ]
  },
  {
   "cell_type": "markdown",
   "metadata": {},
   "source": [
    "> First we need to check Number of Tickets per day"
   ]
  },
  {
   "cell_type": "code",
   "execution_count": null,
   "metadata": {},
   "outputs": [],
   "source": [
    "# For calulation Time, we need a line chart \n",
    "# Need Join to connect two tables\n",
    "tickets = pd.read_sql_query(\"\"\"select * from tickets inner join bookings\n",
    "                  on tickets.book_ref = bookings.book_ref\"\"\", connection)\n",
    "                # we will recieve the Total amount\n",
    "\n",
    "# To extract the date/time for the date column in tickets\n",
    "tickets['book_date'] = pd.to_datetime(tickets('book_date'))\n",
    "# tickets \n",
    "\n",
    "## If we need to remove the time and only needed the date, then\n",
    "tickets['book_date'] = tickets['book_date'].dt.date()\n",
    "tickets\n",
    "\n",
    "\n"
   ]
  },
  {
   "cell_type": "code",
   "execution_count": null,
   "metadata": {},
   "outputs": [],
   "source": [
    "### Now need to group by date column, to find the  total number of tickets for each day\n",
    "x = tickets.groupby('date')[['date']].count()\n",
    "\n",
    "plt.figure(figsize = (16,6))\n",
    "\n",
    "plt.plot(x.index, x['date'], marker = '^')\n",
    "\n",
    "plt.xlabel('Date', fontsize = 20)\n",
    "plt.ylabel('Number of Tickets', fontsize = 20)\n",
    "\n",
    "plt.grid('b')\n",
    "plt.show()\n",
    "\n",
    "# sns.heatmap(x)\n",
    "\n"
   ]
  },
  {
   "cell_type": "markdown",
   "metadata": {},
   "source": [
    "> Now its the time to find the Total amount earned each day from bookings"
   ]
  },
  {
   "cell_type": "code",
   "execution_count": null,
   "metadata": {},
   "outputs": [],
   "source": [
    "bookings = pd.read_sql_query(\"\"\"select * from bookings\"\"\", connection)\n",
    "                # we will recieve all bookings\n",
    "\n",
    "# To extract the date/time for the date column in bookings table\n",
    "bookings['book_date'] = pd.to_datetime(bookings('book_date'))\n",
    "\n",
    "## If we need to remove the time and only needed the date, then\n",
    "bookings['book_date'] = bookings['book_date'].dt.date()\n",
    "\n",
    "### Now need to group by date column, to find the total amount with sum()\n",
    "x = bookings.groupby('date')[['total_amount']].sum()\n",
    "\n",
    "# Draw a plot\n",
    "plt.figure(figsize = (16,6))\n",
    "plt.plot(x.index, x['total_amount'], marker = '^')\n",
    "\n",
    "plt.xlabel('Date', fontsize = 20)\n",
    "plt.ylabel('Total Amount Earned', fontsize = 20)\n",
    "\n",
    "plt.grid('b')\n",
    "plt.show()"
   ]
  },
  {
   "cell_type": "markdown",
   "metadata": {},
   "source": [
    "##### Calculate the average charges for each aircraft with different fare conditions?"
   ]
  },
  {
   "cell_type": "code",
   "execution_count": null,
   "metadata": {},
   "outputs": [],
   "source": [
    "df = pd.read_sql_query(\"\"\"select fare_condition s, aircrafts_code, avg(amount)\n",
    "                       from tickets_flights join flights on ticket_flights.flight.id = flights.flight.id\n",
    "                       group by aircraft_code, fare_conditions\"\"\", connection)\n",
    "\n",
    "# if we print the df value it will provide the both the tables in joint form.\n",
    "# Now we want to make a bar chart  for aircraft_code and avg amount, based on fare_conditions.\n",
    "sns.barplot(data = df, x = 'aircraft_code', y = 'avg(amount)', hue = 'fare_conditions')"
   ]
  },
  {
   "cell_type": "markdown",
   "metadata": {},
   "source": [
    "##### Example: Create New User, into Users table"
   ]
  },
  {
   "cell_type": "code",
   "execution_count": null,
   "metadata": {},
   "outputs": [],
   "source": [
    "###### EXAMPLE: create table for users\n",
    "cursor.execute(\"\"\"CREATE TABLE IF NOT EXISTS Users (\n",
    "               id INTEGER PRIMARY KEY,\n",
    "               username TEXT NOT NULL UNIQUE,\n",
    "               password TEXT NOT NULL)\"\"\")\n",
    "# commit the changes and close the connection to the database\n",
    "connection.commit()\n",
    "connection.close()"
   ]
  }
 ],
 "metadata": {
  "language_info": {
   "name": "python"
  }
 },
 "nbformat": 4,
 "nbformat_minor": 2
}
