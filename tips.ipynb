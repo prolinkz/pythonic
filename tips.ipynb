#### Read data table from website, 
### load into dataFrame and print table wih Index number

table = pd.read_html('https://www.w3schools.com/python/python_ref_functions.asp')   # read the web page, python function page
table[0]     # print website page 1st table at index=0

table[1]    # we can later use the other index number to get print


#### ASCII Numbers
### ASCI Code are known by Keyboard American Standards. used for number calculation from to 
## Capital Letters ASCI code range
A = 95
B = 96
# ...
Z = 98

## Small Letters ASCI code range
a = 97
z= 122

## Numerical Numbers ASCI code range 
0 = 48
9 = 57

###   we use function to find the ASCI code of any Character, or vise versa,, through Char() and ord() functions.

char(65)     # char() funtion return the character of the given ASCI code. Output will be 'A' character.
ord('A')      # its returns the ASCII code of the given character. ASCI code A character value is 65, it returns 65




##### OPERATORS.  check w3school web page
##   Assignment operators
## Arethimetic operators
## Logical operators
## Binary operators
## is, is not operators
## in, not in operators

# in operator Example
names : list[str] = ['Sir Zia', 'Bangash', 'Qasim']
uinput : str = input("Search your name in database")    # Input the name to search in textbox

uinput in names    # if the user input name exist in a list it will return True, otherwise False.



#### PEMDAS RULE for operation 
P paranthesis/Brackets
E Exponent (power/sqare/root)
MD Multiplication/Division
AS - Addidtion/Substraction

print(3 + 2 -2 * 4 / 2 + 3)
# first multiplet 4*2=8
# then divide -8/2 = -4
# then addition substrction from (left to right) 3+2=5, then last operation on2+3=5
# now we have value from MD = -4, and AS = 5, and 5
# the whole expression became (5 - 4 +5)
# Now again 5-4=1, and 1+5=6. The 6 will be the output

## Walrus 
a : int = 5
if (a < (b := a + b)):   # here (b := a+ 5) within expression is wolurs operator where we declare and perform operation
  print (b)
else:
  print ('else is working')

#### Zip Unzip command. We use Tupple to unzip the the data from a set
# we can create multi variable at single line, like
a, b, c = ('zaki', 7, 3.0)    # this is known as tupple, where from each variable there is indexed value
print(a)
print(b)
print(c)

# or we can assign a variable for it
data = ('qasim', 7, 3.0)
print(data[0], data[1], data[2])   # this will print:  'qasim', 7, 3.0

  # For quick processing we can use * with variale to print all values of 'data' Tupple.
  data = ('qasim', 7, 3.0)
  print(*data)     #  # this will print the same as above: 'qasim', 7, 3.0





